{
 "cells": [
  {
   "cell_type": "markdown",
   "metadata": {},
   "source": [
    "<a id='top'></a>\n",
    "# Table of Contents\n",
    " 1 [Objective](#Objective)<br>\n",
    " 2 [Loading the Data](#Load)<br>\n",
    " 3 [Data Sanitization](#datas)<br>\n",
    " 4 [Exploratory Analysis](#ea)<br>\n",
    " 5 [Splitting The Data](#split)<br>\n",
    " 6 [Model Building](#mb)\n",
    "   -  6.1 [Logistic Regression](#lr) \n",
    "   -  6.2 [Decision tree](#dtree) "
   ]
  },
  {
   "cell_type": "markdown",
   "metadata": {},
   "source": [
    "<a id='Objective'></a>\n",
    "## Objective : From a given dataset of meausrement of Breast Cancer Cells predict whether each cell is *malignant or benign*"
   ]
  },
  {
   "cell_type": "markdown",
   "metadata": {},
   "source": [
    "### Import the Libraries"
   ]
  },
  {
   "cell_type": "code",
   "execution_count": 2,
   "metadata": {},
   "outputs": [
    {
     "name": "stderr",
     "output_type": "stream",
     "text": [
      "C:\\Users\\Shantam Gupta\\Anaconda3\\lib\\site-packages\\sklearn\\cross_validation.py:44: DeprecationWarning: This module was deprecated in version 0.18 in favor of the model_selection module into which all the refactored classes and functions are moved. Also note that the interface of the new CV iterators are different from that of this module. This module will be removed in 0.20.\n",
      "  \"This module will be removed in 0.20.\", DeprecationWarning)\n"
     ]
    }
   ],
   "source": [
    "import numpy as np #array manipulations\n",
    "import pandas as pd  # high level data structure manipulation and other data analysis operation\n",
    "import matplotlib.pyplot as plt # data visualization\n",
    "import os # operating system functionality\n",
    "import math # math operation\n",
    "from sklearn import linear_model,metrics,tree # building statistical models \n",
    "from sklearn import model_selection,cross_validation # for test train split , cross validation and related functionality\n",
    "from IPython.display import SVG # to show graphs in Notebook\n",
    "import graphviz # render graphs  \n",
    "%matplotlib inline  "
   ]
  },
  {
   "cell_type": "markdown",
   "metadata": {},
   "source": [
    " ### Checking the Current Working Directory"
   ]
  },
  {
   "cell_type": "code",
   "execution_count": 3,
   "metadata": {},
   "outputs": [],
   "source": [
    "path = os.getcwd()"
   ]
  },
  {
   "cell_type": "markdown",
   "metadata": {},
   "source": [
    "If the above file location is different from where your current files \n",
    "\n",
    "Either\n",
    "\n",
    "1) Move the file to the current path location or \n",
    "\n",
    "2) Alter the above path and set its to the location of the folder containing the relevant files\n"
   ]
  },
  {
   "cell_type": "markdown",
   "metadata": {},
   "source": [
    "<a id='Load'></a>\n",
    "### Loading the Data files\n",
    "For this task we have been provided with two files. The first file contains measurements of Breast Cancer Cells and the second file contains the header for this file"
   ]
  },
  {
   "cell_type": "code",
   "execution_count": 3,
   "metadata": {},
   "outputs": [
    {
     "data": {
      "text/plain": [
       "['ID',\n",
       " 'diagnosis',\n",
       " 'radius_mean',\n",
       " 'radius_sd_error',\n",
       " 'radius_worst',\n",
       " 'texture_mean',\n",
       " 'texture_sd_error',\n",
       " 'texture_worst',\n",
       " 'perimeter_mean',\n",
       " 'perimeter_sd_error',\n",
       " 'perimeter_worst',\n",
       " 'area_mean',\n",
       " 'area_sd_error',\n",
       " 'area_worst',\n",
       " 'smoothness_mean',\n",
       " 'smoothness_sd_error',\n",
       " 'smoothness_worst',\n",
       " 'compactness_mean',\n",
       " 'compactness_sd_error',\n",
       " 'compactness_worst',\n",
       " 'concavity_mean',\n",
       " 'concavity_sd_error',\n",
       " 'concavity_worst',\n",
       " 'concave_points_mean',\n",
       " 'concave_points_sd_error',\n",
       " 'concave_points_worst',\n",
       " 'symmetry_mean',\n",
       " 'symmetry_sd_error',\n",
       " 'symmetry_worst',\n",
       " 'fractal_dimension_mean',\n",
       " 'fractal_dimension_sd_error',\n",
       " 'fractal_dimension_worst']"
      ]
     },
     "execution_count": 3,
     "metadata": {},
     "output_type": "execute_result"
    }
   ],
   "source": [
    "#open the header txt file\n",
    "header = open(\"data/field_names.txt\",\"r\")\n",
    "\n",
    "#read the lines from the text file and split each one in a new line\n",
    "header_line = header.read().splitlines()\n",
    "header_line"
   ]
  },
  {
   "cell_type": "code",
   "execution_count": 4,
   "metadata": {},
   "outputs": [
    {
     "data": {
      "text/html": [
       "<div>\n",
       "<style>\n",
       "    .dataframe thead tr:only-child th {\n",
       "        text-align: right;\n",
       "    }\n",
       "\n",
       "    .dataframe thead th {\n",
       "        text-align: left;\n",
       "    }\n",
       "\n",
       "    .dataframe tbody tr th {\n",
       "        vertical-align: top;\n",
       "    }\n",
       "</style>\n",
       "<table border=\"1\" class=\"dataframe\">\n",
       "  <thead>\n",
       "    <tr style=\"text-align: right;\">\n",
       "      <th></th>\n",
       "      <th>ID</th>\n",
       "      <th>diagnosis</th>\n",
       "      <th>radius_mean</th>\n",
       "      <th>radius_sd_error</th>\n",
       "      <th>radius_worst</th>\n",
       "      <th>texture_mean</th>\n",
       "      <th>texture_sd_error</th>\n",
       "      <th>texture_worst</th>\n",
       "      <th>perimeter_mean</th>\n",
       "      <th>perimeter_sd_error</th>\n",
       "      <th>...</th>\n",
       "      <th>concavity_worst</th>\n",
       "      <th>concave_points_mean</th>\n",
       "      <th>concave_points_sd_error</th>\n",
       "      <th>concave_points_worst</th>\n",
       "      <th>symmetry_mean</th>\n",
       "      <th>symmetry_sd_error</th>\n",
       "      <th>symmetry_worst</th>\n",
       "      <th>fractal_dimension_mean</th>\n",
       "      <th>fractal_dimension_sd_error</th>\n",
       "      <th>fractal_dimension_worst</th>\n",
       "    </tr>\n",
       "  </thead>\n",
       "  <tbody>\n",
       "    <tr>\n",
       "      <th>0</th>\n",
       "      <td>842302</td>\n",
       "      <td>M</td>\n",
       "      <td>17.99</td>\n",
       "      <td>10.38</td>\n",
       "      <td>122.80</td>\n",
       "      <td>1001.0</td>\n",
       "      <td>0.11840</td>\n",
       "      <td>0.27760</td>\n",
       "      <td>0.3001</td>\n",
       "      <td>0.14710</td>\n",
       "      <td>...</td>\n",
       "      <td>25.38</td>\n",
       "      <td>17.33</td>\n",
       "      <td>184.60</td>\n",
       "      <td>2019.0</td>\n",
       "      <td>0.1622</td>\n",
       "      <td>0.6656</td>\n",
       "      <td>0.7119</td>\n",
       "      <td>0.2654</td>\n",
       "      <td>0.4601</td>\n",
       "      <td>0.11890</td>\n",
       "    </tr>\n",
       "    <tr>\n",
       "      <th>1</th>\n",
       "      <td>842517</td>\n",
       "      <td>M</td>\n",
       "      <td>20.57</td>\n",
       "      <td>17.77</td>\n",
       "      <td>132.90</td>\n",
       "      <td>1326.0</td>\n",
       "      <td>0.08474</td>\n",
       "      <td>0.07864</td>\n",
       "      <td>0.0869</td>\n",
       "      <td>0.07017</td>\n",
       "      <td>...</td>\n",
       "      <td>24.99</td>\n",
       "      <td>23.41</td>\n",
       "      <td>158.80</td>\n",
       "      <td>1956.0</td>\n",
       "      <td>0.1238</td>\n",
       "      <td>0.1866</td>\n",
       "      <td>0.2416</td>\n",
       "      <td>0.1860</td>\n",
       "      <td>0.2750</td>\n",
       "      <td>0.08902</td>\n",
       "    </tr>\n",
       "    <tr>\n",
       "      <th>2</th>\n",
       "      <td>84300903</td>\n",
       "      <td>M</td>\n",
       "      <td>19.69</td>\n",
       "      <td>21.25</td>\n",
       "      <td>130.00</td>\n",
       "      <td>1203.0</td>\n",
       "      <td>0.10960</td>\n",
       "      <td>0.15990</td>\n",
       "      <td>0.1974</td>\n",
       "      <td>0.12790</td>\n",
       "      <td>...</td>\n",
       "      <td>23.57</td>\n",
       "      <td>25.53</td>\n",
       "      <td>152.50</td>\n",
       "      <td>1709.0</td>\n",
       "      <td>0.1444</td>\n",
       "      <td>0.4245</td>\n",
       "      <td>0.4504</td>\n",
       "      <td>0.2430</td>\n",
       "      <td>0.3613</td>\n",
       "      <td>0.08758</td>\n",
       "    </tr>\n",
       "    <tr>\n",
       "      <th>3</th>\n",
       "      <td>84348301</td>\n",
       "      <td>M</td>\n",
       "      <td>11.42</td>\n",
       "      <td>20.38</td>\n",
       "      <td>77.58</td>\n",
       "      <td>386.1</td>\n",
       "      <td>0.14250</td>\n",
       "      <td>0.28390</td>\n",
       "      <td>0.2414</td>\n",
       "      <td>0.10520</td>\n",
       "      <td>...</td>\n",
       "      <td>14.91</td>\n",
       "      <td>26.50</td>\n",
       "      <td>98.87</td>\n",
       "      <td>567.7</td>\n",
       "      <td>0.2098</td>\n",
       "      <td>0.8663</td>\n",
       "      <td>0.6869</td>\n",
       "      <td>0.2575</td>\n",
       "      <td>0.6638</td>\n",
       "      <td>0.17300</td>\n",
       "    </tr>\n",
       "    <tr>\n",
       "      <th>4</th>\n",
       "      <td>84358402</td>\n",
       "      <td>M</td>\n",
       "      <td>20.29</td>\n",
       "      <td>14.34</td>\n",
       "      <td>135.10</td>\n",
       "      <td>1297.0</td>\n",
       "      <td>0.10030</td>\n",
       "      <td>0.13280</td>\n",
       "      <td>0.1980</td>\n",
       "      <td>0.10430</td>\n",
       "      <td>...</td>\n",
       "      <td>22.54</td>\n",
       "      <td>16.67</td>\n",
       "      <td>152.20</td>\n",
       "      <td>1575.0</td>\n",
       "      <td>0.1374</td>\n",
       "      <td>0.2050</td>\n",
       "      <td>0.4000</td>\n",
       "      <td>0.1625</td>\n",
       "      <td>0.2364</td>\n",
       "      <td>0.07678</td>\n",
       "    </tr>\n",
       "  </tbody>\n",
       "</table>\n",
       "<p>5 rows × 32 columns</p>\n",
       "</div>"
      ],
      "text/plain": [
       "         ID diagnosis  radius_mean  radius_sd_error  radius_worst  \\\n",
       "0    842302         M        17.99            10.38        122.80   \n",
       "1    842517         M        20.57            17.77        132.90   \n",
       "2  84300903         M        19.69            21.25        130.00   \n",
       "3  84348301         M        11.42            20.38         77.58   \n",
       "4  84358402         M        20.29            14.34        135.10   \n",
       "\n",
       "   texture_mean  texture_sd_error  texture_worst  perimeter_mean  \\\n",
       "0        1001.0           0.11840        0.27760          0.3001   \n",
       "1        1326.0           0.08474        0.07864          0.0869   \n",
       "2        1203.0           0.10960        0.15990          0.1974   \n",
       "3         386.1           0.14250        0.28390          0.2414   \n",
       "4        1297.0           0.10030        0.13280          0.1980   \n",
       "\n",
       "   perimeter_sd_error           ...             concavity_worst  \\\n",
       "0             0.14710           ...                       25.38   \n",
       "1             0.07017           ...                       24.99   \n",
       "2             0.12790           ...                       23.57   \n",
       "3             0.10520           ...                       14.91   \n",
       "4             0.10430           ...                       22.54   \n",
       "\n",
       "   concave_points_mean  concave_points_sd_error  concave_points_worst  \\\n",
       "0                17.33                   184.60                2019.0   \n",
       "1                23.41                   158.80                1956.0   \n",
       "2                25.53                   152.50                1709.0   \n",
       "3                26.50                    98.87                 567.7   \n",
       "4                16.67                   152.20                1575.0   \n",
       "\n",
       "   symmetry_mean  symmetry_sd_error  symmetry_worst  fractal_dimension_mean  \\\n",
       "0         0.1622             0.6656          0.7119                  0.2654   \n",
       "1         0.1238             0.1866          0.2416                  0.1860   \n",
       "2         0.1444             0.4245          0.4504                  0.2430   \n",
       "3         0.2098             0.8663          0.6869                  0.2575   \n",
       "4         0.1374             0.2050          0.4000                  0.1625   \n",
       "\n",
       "   fractal_dimension_sd_error  fractal_dimension_worst  \n",
       "0                      0.4601                  0.11890  \n",
       "1                      0.2750                  0.08902  \n",
       "2                      0.3613                  0.08758  \n",
       "3                      0.6638                  0.17300  \n",
       "4                      0.2364                  0.07678  \n",
       "\n",
       "[5 rows x 32 columns]"
      ]
     },
     "execution_count": 4,
     "metadata": {},
     "output_type": "execute_result"
    }
   ],
   "source": [
    "#load the breast cancer measurement csv file and set the column names to the filed names stored above(header_line)\n",
    "data = pd.read_csv(\"data/breast-cancer.csv\",names=header_line)\n",
    "\n",
    "#print the top 5 rows the head()\n",
    "data.head()"
   ]
  },
  {
   "cell_type": "markdown",
   "metadata": {},
   "source": [
    "<a id='datas'></a>\n",
    "### Data Sanitization\n",
    "####  Data Type validation"
   ]
  },
  {
   "cell_type": "code",
   "execution_count": 5,
   "metadata": {},
   "outputs": [
    {
     "data": {
      "text/plain": [
       "pandas.core.frame.DataFrame"
      ]
     },
     "execution_count": 5,
     "metadata": {},
     "output_type": "execute_result"
    }
   ],
   "source": [
    "#checking the type of data object \n",
    "type(data)"
   ]
  },
  {
   "cell_type": "code",
   "execution_count": 6,
   "metadata": {},
   "outputs": [
    {
     "data": {
      "text/plain": [
       "ID                              int64\n",
       "diagnosis                      object\n",
       "radius_mean                   float64\n",
       "radius_sd_error               float64\n",
       "radius_worst                  float64\n",
       "texture_mean                  float64\n",
       "texture_sd_error              float64\n",
       "texture_worst                 float64\n",
       "perimeter_mean                float64\n",
       "perimeter_sd_error            float64\n",
       "perimeter_worst               float64\n",
       "area_mean                     float64\n",
       "area_sd_error                 float64\n",
       "area_worst                    float64\n",
       "smoothness_mean               float64\n",
       "smoothness_sd_error           float64\n",
       "smoothness_worst              float64\n",
       "compactness_mean              float64\n",
       "compactness_sd_error          float64\n",
       "compactness_worst             float64\n",
       "concavity_mean                float64\n",
       "concavity_sd_error            float64\n",
       "concavity_worst               float64\n",
       "concave_points_mean           float64\n",
       "concave_points_sd_error       float64\n",
       "concave_points_worst          float64\n",
       "symmetry_mean                 float64\n",
       "symmetry_sd_error             float64\n",
       "symmetry_worst                float64\n",
       "fractal_dimension_mean        float64\n",
       "fractal_dimension_sd_error    float64\n",
       "fractal_dimension_worst       float64\n",
       "dtype: object"
      ]
     },
     "execution_count": 6,
     "metadata": {},
     "output_type": "execute_result"
    }
   ],
   "source": [
    "#looking at type of the data to ensure data type validation of columns\n",
    "data.dtypes"
   ]
  },
  {
   "cell_type": "code",
   "execution_count": 7,
   "metadata": {},
   "outputs": [
    {
     "data": {
      "text/plain": [
       "ID                              object\n",
       "diagnosis                     category\n",
       "radius_mean                    float64\n",
       "radius_sd_error                float64\n",
       "radius_worst                   float64\n",
       "texture_mean                   float64\n",
       "texture_sd_error               float64\n",
       "texture_worst                  float64\n",
       "perimeter_mean                 float64\n",
       "perimeter_sd_error             float64\n",
       "perimeter_worst                float64\n",
       "area_mean                      float64\n",
       "area_sd_error                  float64\n",
       "area_worst                     float64\n",
       "smoothness_mean                float64\n",
       "smoothness_sd_error            float64\n",
       "smoothness_worst               float64\n",
       "compactness_mean               float64\n",
       "compactness_sd_error           float64\n",
       "compactness_worst              float64\n",
       "concavity_mean                 float64\n",
       "concavity_sd_error             float64\n",
       "concavity_worst                float64\n",
       "concave_points_mean            float64\n",
       "concave_points_sd_error        float64\n",
       "concave_points_worst           float64\n",
       "symmetry_mean                  float64\n",
       "symmetry_sd_error              float64\n",
       "symmetry_worst                 float64\n",
       "fractal_dimension_mean         float64\n",
       "fractal_dimension_sd_error     float64\n",
       "fractal_dimension_worst        float64\n",
       "dtype: object"
      ]
     },
     "execution_count": 7,
     "metadata": {},
     "output_type": "execute_result"
    }
   ],
   "source": [
    "#converting ID to object  using astype explicit data type conversion\n",
    "data.ID = data.ID.astype('object')\n",
    "\n",
    "#converting diagnosis to nominal categorical data type (there is no order between malignant or benign hence specify ordered = False as a parameter)\n",
    "data.diagnosis = pd.Categorical(data.diagnosis,ordered = False)\n",
    "\n",
    "#check the data types after conversion\n",
    "data.dtypes"
   ]
  },
  {
   "cell_type": "markdown",
   "metadata": {},
   "source": [
    "Apart from ID and Diagnosis all other columnns are representative of measurement hence the data type float is quite apt for their use"
   ]
  },
  {
   "cell_type": "markdown",
   "metadata": {},
   "source": [
    "#### Checking for empty or missing values in the data"
   ]
  },
  {
   "cell_type": "code",
   "execution_count": 8,
   "metadata": {},
   "outputs": [
    {
     "name": "stdout",
     "output_type": "stream",
     "text": [
      "False\n"
     ]
    }
   ],
   "source": [
    "#check if any value in the data frame is null or missing\n",
    "#print(data.isnull())\n",
    "\n",
    "#the above exercise can be tedious if the dataset is large. To check if any columns have any missing value\n",
    "#print(data.isnull().any())\n",
    "\n",
    "#A faster way to check this\n",
    "#print(data.isnull().values.any())\n",
    "\n",
    "#Check  if any number is read incorrecctly as nan (not a number, e.g. 0/0, 1/0 etc.) this opereation can only be performed on numbers. Use the similiar logic to check as defdined above using any() \n",
    "print(np.isnan(data.loc[:,'radius_mean':'fractal_dimension_worst' ].any().any()))\n",
    "\n",
    "\n",
    "#Note : Remove the comment(#) before the print statement(as done for above line) and check the output\n",
    "#also see help(any) to understand how it can be effectively used for boolean operations"
   ]
  },
  {
   "cell_type": "markdown",
   "metadata": {},
   "source": [
    "None of the data values are missing or nans and hence we are good to proceed further"
   ]
  },
  {
   "cell_type": "markdown",
   "metadata": {},
   "source": [
    "#### Descriptive Statistics"
   ]
  },
  {
   "cell_type": "code",
   "execution_count": 9,
   "metadata": {},
   "outputs": [
    {
     "data": {
      "text/html": [
       "<div>\n",
       "<style>\n",
       "    .dataframe thead tr:only-child th {\n",
       "        text-align: right;\n",
       "    }\n",
       "\n",
       "    .dataframe thead th {\n",
       "        text-align: left;\n",
       "    }\n",
       "\n",
       "    .dataframe tbody tr th {\n",
       "        vertical-align: top;\n",
       "    }\n",
       "</style>\n",
       "<table border=\"1\" class=\"dataframe\">\n",
       "  <thead>\n",
       "    <tr style=\"text-align: right;\">\n",
       "      <th></th>\n",
       "      <th>radius_mean</th>\n",
       "      <th>radius_sd_error</th>\n",
       "      <th>radius_worst</th>\n",
       "      <th>texture_mean</th>\n",
       "      <th>texture_sd_error</th>\n",
       "      <th>texture_worst</th>\n",
       "      <th>perimeter_mean</th>\n",
       "      <th>perimeter_sd_error</th>\n",
       "      <th>perimeter_worst</th>\n",
       "      <th>area_mean</th>\n",
       "      <th>...</th>\n",
       "      <th>concavity_worst</th>\n",
       "      <th>concave_points_mean</th>\n",
       "      <th>concave_points_sd_error</th>\n",
       "      <th>concave_points_worst</th>\n",
       "      <th>symmetry_mean</th>\n",
       "      <th>symmetry_sd_error</th>\n",
       "      <th>symmetry_worst</th>\n",
       "      <th>fractal_dimension_mean</th>\n",
       "      <th>fractal_dimension_sd_error</th>\n",
       "      <th>fractal_dimension_worst</th>\n",
       "    </tr>\n",
       "  </thead>\n",
       "  <tbody>\n",
       "    <tr>\n",
       "      <th>count</th>\n",
       "      <td>569.000000</td>\n",
       "      <td>569.000000</td>\n",
       "      <td>569.000000</td>\n",
       "      <td>569.000000</td>\n",
       "      <td>569.000000</td>\n",
       "      <td>569.000000</td>\n",
       "      <td>569.000000</td>\n",
       "      <td>569.000000</td>\n",
       "      <td>569.000000</td>\n",
       "      <td>569.000000</td>\n",
       "      <td>...</td>\n",
       "      <td>569.000000</td>\n",
       "      <td>569.000000</td>\n",
       "      <td>569.000000</td>\n",
       "      <td>569.000000</td>\n",
       "      <td>569.000000</td>\n",
       "      <td>569.000000</td>\n",
       "      <td>569.000000</td>\n",
       "      <td>569.000000</td>\n",
       "      <td>569.000000</td>\n",
       "      <td>569.000000</td>\n",
       "    </tr>\n",
       "    <tr>\n",
       "      <th>mean</th>\n",
       "      <td>14.127292</td>\n",
       "      <td>19.289649</td>\n",
       "      <td>91.969033</td>\n",
       "      <td>654.889104</td>\n",
       "      <td>0.096360</td>\n",
       "      <td>0.104341</td>\n",
       "      <td>0.088799</td>\n",
       "      <td>0.048919</td>\n",
       "      <td>0.181162</td>\n",
       "      <td>0.062798</td>\n",
       "      <td>...</td>\n",
       "      <td>16.269190</td>\n",
       "      <td>25.677223</td>\n",
       "      <td>107.261213</td>\n",
       "      <td>880.583128</td>\n",
       "      <td>0.132369</td>\n",
       "      <td>0.254265</td>\n",
       "      <td>0.272188</td>\n",
       "      <td>0.114606</td>\n",
       "      <td>0.290076</td>\n",
       "      <td>0.083946</td>\n",
       "    </tr>\n",
       "    <tr>\n",
       "      <th>std</th>\n",
       "      <td>3.524049</td>\n",
       "      <td>4.301036</td>\n",
       "      <td>24.298981</td>\n",
       "      <td>351.914129</td>\n",
       "      <td>0.014064</td>\n",
       "      <td>0.052813</td>\n",
       "      <td>0.079720</td>\n",
       "      <td>0.038803</td>\n",
       "      <td>0.027414</td>\n",
       "      <td>0.007060</td>\n",
       "      <td>...</td>\n",
       "      <td>4.833242</td>\n",
       "      <td>6.146258</td>\n",
       "      <td>33.602542</td>\n",
       "      <td>569.356993</td>\n",
       "      <td>0.022832</td>\n",
       "      <td>0.157336</td>\n",
       "      <td>0.208624</td>\n",
       "      <td>0.065732</td>\n",
       "      <td>0.061867</td>\n",
       "      <td>0.018061</td>\n",
       "    </tr>\n",
       "    <tr>\n",
       "      <th>min</th>\n",
       "      <td>6.981000</td>\n",
       "      <td>9.710000</td>\n",
       "      <td>43.790000</td>\n",
       "      <td>143.500000</td>\n",
       "      <td>0.052630</td>\n",
       "      <td>0.019380</td>\n",
       "      <td>0.000000</td>\n",
       "      <td>0.000000</td>\n",
       "      <td>0.106000</td>\n",
       "      <td>0.049960</td>\n",
       "      <td>...</td>\n",
       "      <td>7.930000</td>\n",
       "      <td>12.020000</td>\n",
       "      <td>50.410000</td>\n",
       "      <td>185.200000</td>\n",
       "      <td>0.071170</td>\n",
       "      <td>0.027290</td>\n",
       "      <td>0.000000</td>\n",
       "      <td>0.000000</td>\n",
       "      <td>0.156500</td>\n",
       "      <td>0.055040</td>\n",
       "    </tr>\n",
       "    <tr>\n",
       "      <th>25%</th>\n",
       "      <td>11.700000</td>\n",
       "      <td>16.170000</td>\n",
       "      <td>75.170000</td>\n",
       "      <td>420.300000</td>\n",
       "      <td>0.086370</td>\n",
       "      <td>0.064920</td>\n",
       "      <td>0.029560</td>\n",
       "      <td>0.020310</td>\n",
       "      <td>0.161900</td>\n",
       "      <td>0.057700</td>\n",
       "      <td>...</td>\n",
       "      <td>13.010000</td>\n",
       "      <td>21.080000</td>\n",
       "      <td>84.110000</td>\n",
       "      <td>515.300000</td>\n",
       "      <td>0.116600</td>\n",
       "      <td>0.147200</td>\n",
       "      <td>0.114500</td>\n",
       "      <td>0.064930</td>\n",
       "      <td>0.250400</td>\n",
       "      <td>0.071460</td>\n",
       "    </tr>\n",
       "    <tr>\n",
       "      <th>50%</th>\n",
       "      <td>13.370000</td>\n",
       "      <td>18.840000</td>\n",
       "      <td>86.240000</td>\n",
       "      <td>551.100000</td>\n",
       "      <td>0.095870</td>\n",
       "      <td>0.092630</td>\n",
       "      <td>0.061540</td>\n",
       "      <td>0.033500</td>\n",
       "      <td>0.179200</td>\n",
       "      <td>0.061540</td>\n",
       "      <td>...</td>\n",
       "      <td>14.970000</td>\n",
       "      <td>25.410000</td>\n",
       "      <td>97.660000</td>\n",
       "      <td>686.500000</td>\n",
       "      <td>0.131300</td>\n",
       "      <td>0.211900</td>\n",
       "      <td>0.226700</td>\n",
       "      <td>0.099930</td>\n",
       "      <td>0.282200</td>\n",
       "      <td>0.080040</td>\n",
       "    </tr>\n",
       "    <tr>\n",
       "      <th>75%</th>\n",
       "      <td>15.780000</td>\n",
       "      <td>21.800000</td>\n",
       "      <td>104.100000</td>\n",
       "      <td>782.700000</td>\n",
       "      <td>0.105300</td>\n",
       "      <td>0.130400</td>\n",
       "      <td>0.130700</td>\n",
       "      <td>0.074000</td>\n",
       "      <td>0.195700</td>\n",
       "      <td>0.066120</td>\n",
       "      <td>...</td>\n",
       "      <td>18.790000</td>\n",
       "      <td>29.720000</td>\n",
       "      <td>125.400000</td>\n",
       "      <td>1084.000000</td>\n",
       "      <td>0.146000</td>\n",
       "      <td>0.339100</td>\n",
       "      <td>0.382900</td>\n",
       "      <td>0.161400</td>\n",
       "      <td>0.317900</td>\n",
       "      <td>0.092080</td>\n",
       "    </tr>\n",
       "    <tr>\n",
       "      <th>max</th>\n",
       "      <td>28.110000</td>\n",
       "      <td>39.280000</td>\n",
       "      <td>188.500000</td>\n",
       "      <td>2501.000000</td>\n",
       "      <td>0.163400</td>\n",
       "      <td>0.345400</td>\n",
       "      <td>0.426800</td>\n",
       "      <td>0.201200</td>\n",
       "      <td>0.304000</td>\n",
       "      <td>0.097440</td>\n",
       "      <td>...</td>\n",
       "      <td>36.040000</td>\n",
       "      <td>49.540000</td>\n",
       "      <td>251.200000</td>\n",
       "      <td>4254.000000</td>\n",
       "      <td>0.222600</td>\n",
       "      <td>1.058000</td>\n",
       "      <td>1.252000</td>\n",
       "      <td>0.291000</td>\n",
       "      <td>0.663800</td>\n",
       "      <td>0.207500</td>\n",
       "    </tr>\n",
       "  </tbody>\n",
       "</table>\n",
       "<p>8 rows × 30 columns</p>\n",
       "</div>"
      ],
      "text/plain": [
       "       radius_mean  radius_sd_error  radius_worst  texture_mean  \\\n",
       "count   569.000000       569.000000    569.000000    569.000000   \n",
       "mean     14.127292        19.289649     91.969033    654.889104   \n",
       "std       3.524049         4.301036     24.298981    351.914129   \n",
       "min       6.981000         9.710000     43.790000    143.500000   \n",
       "25%      11.700000        16.170000     75.170000    420.300000   \n",
       "50%      13.370000        18.840000     86.240000    551.100000   \n",
       "75%      15.780000        21.800000    104.100000    782.700000   \n",
       "max      28.110000        39.280000    188.500000   2501.000000   \n",
       "\n",
       "       texture_sd_error  texture_worst  perimeter_mean  perimeter_sd_error  \\\n",
       "count        569.000000     569.000000      569.000000          569.000000   \n",
       "mean           0.096360       0.104341        0.088799            0.048919   \n",
       "std            0.014064       0.052813        0.079720            0.038803   \n",
       "min            0.052630       0.019380        0.000000            0.000000   \n",
       "25%            0.086370       0.064920        0.029560            0.020310   \n",
       "50%            0.095870       0.092630        0.061540            0.033500   \n",
       "75%            0.105300       0.130400        0.130700            0.074000   \n",
       "max            0.163400       0.345400        0.426800            0.201200   \n",
       "\n",
       "       perimeter_worst   area_mean           ...             concavity_worst  \\\n",
       "count       569.000000  569.000000           ...                  569.000000   \n",
       "mean          0.181162    0.062798           ...                   16.269190   \n",
       "std           0.027414    0.007060           ...                    4.833242   \n",
       "min           0.106000    0.049960           ...                    7.930000   \n",
       "25%           0.161900    0.057700           ...                   13.010000   \n",
       "50%           0.179200    0.061540           ...                   14.970000   \n",
       "75%           0.195700    0.066120           ...                   18.790000   \n",
       "max           0.304000    0.097440           ...                   36.040000   \n",
       "\n",
       "       concave_points_mean  concave_points_sd_error  concave_points_worst  \\\n",
       "count           569.000000               569.000000            569.000000   \n",
       "mean             25.677223               107.261213            880.583128   \n",
       "std               6.146258                33.602542            569.356993   \n",
       "min              12.020000                50.410000            185.200000   \n",
       "25%              21.080000                84.110000            515.300000   \n",
       "50%              25.410000                97.660000            686.500000   \n",
       "75%              29.720000               125.400000           1084.000000   \n",
       "max              49.540000               251.200000           4254.000000   \n",
       "\n",
       "       symmetry_mean  symmetry_sd_error  symmetry_worst  \\\n",
       "count     569.000000         569.000000      569.000000   \n",
       "mean        0.132369           0.254265        0.272188   \n",
       "std         0.022832           0.157336        0.208624   \n",
       "min         0.071170           0.027290        0.000000   \n",
       "25%         0.116600           0.147200        0.114500   \n",
       "50%         0.131300           0.211900        0.226700   \n",
       "75%         0.146000           0.339100        0.382900   \n",
       "max         0.222600           1.058000        1.252000   \n",
       "\n",
       "       fractal_dimension_mean  fractal_dimension_sd_error  \\\n",
       "count              569.000000                  569.000000   \n",
       "mean                 0.114606                    0.290076   \n",
       "std                  0.065732                    0.061867   \n",
       "min                  0.000000                    0.156500   \n",
       "25%                  0.064930                    0.250400   \n",
       "50%                  0.099930                    0.282200   \n",
       "75%                  0.161400                    0.317900   \n",
       "max                  0.291000                    0.663800   \n",
       "\n",
       "       fractal_dimension_worst  \n",
       "count               569.000000  \n",
       "mean                  0.083946  \n",
       "std                   0.018061  \n",
       "min                   0.055040  \n",
       "25%                   0.071460  \n",
       "50%                   0.080040  \n",
       "75%                   0.092080  \n",
       "max                   0.207500  \n",
       "\n",
       "[8 rows x 30 columns]"
      ]
     },
     "execution_count": 9,
     "metadata": {},
     "output_type": "execute_result"
    }
   ],
   "source": [
    "data.describe()"
   ]
  },
  {
   "cell_type": "markdown",
   "metadata": {},
   "source": [
    "The mean and median smoothness of Malignant category cells on an average (in the given dataset) is  greater than the mean and median smoothness of Bening Category Cells. This possibly indicates that Mean Smoothness could be an import predictor/variable/feature for differentiating between the two categories."
   ]
  },
  {
   "cell_type": "markdown",
   "metadata": {},
   "source": [
    "<a id = \"ae\"></a>\n",
    "### Exploratory Analysis"
   ]
  },
  {
   "cell_type": "markdown",
   "metadata": {},
   "source": [
    "#### Identify 2-3 variables that are predictive of a malignant tumor.\n",
    "Display the relationship visually and write 1-2 sentences explaining the relationship."
   ]
  },
  {
   "cell_type": "code",
   "execution_count": 13,
   "metadata": {
    "collapsed": true
   },
   "outputs": [],
   "source": [
    "#separting the data by categories for visuliazation puprose\n",
    "data_M = data[data['diagnosis']=='M']\n",
    "data_B = data[data['diagnosis']=='B']"
   ]
  },
  {
   "cell_type": "code",
   "execution_count": 14,
   "metadata": {
    "scrolled": true
   },
   "outputs": [
    {
     "data": {
      "text/plain": [
       "<matplotlib.text.Text at 0x270f38fafd0>"
      ]
     },
     "execution_count": 14,
     "metadata": {},
     "output_type": "execute_result"
    },
    {
     "data": {
      "image/png": "[encoded data removed]",
      "text/plain": [
       "<matplotlib.figure.Figure at 0x270f38915f8>"
      ]
     },
     "metadata": {},
     "output_type": "display_data"
    }
   ],
   "source": [
    "#Histogram of Class frequencies of Breast Cancer Diagnosis.\n",
    "data.diagnosis.value_counts().plot(kind ='bar')\n",
    "plt.title(\"Histogram of Breast Cancer Diagnosis results\")\n",
    "plt.ylabel(\"Frequency\")"
   ]
  },
  {
   "cell_type": "markdown",
   "metadata": {},
   "source": [
    "**The prior of classes(categories) play an important role on the performance of a classifier**\n"
   ]
  },
  {
   "cell_type": "code",
   "execution_count": 15,
   "metadata": {},
   "outputs": [
    {
     "data": {
      "text/plain": [
       "<matplotlib.text.Text at 0x270f39a99b0>"
      ]
     },
     "execution_count": 15,
     "metadata": {},
     "output_type": "execute_result"
    },
    {
     "data": {
      "image/png": "[encoded data removed]",
      "text/plain": [
       "<matplotlib.figure.Figure at 0x270f38b7748>"
      ]
     },
     "metadata": {},
     "output_type": "display_data"
    }
   ],
   "source": [
    "#randomly choosing columns smoothness mean and compactness_mean to plot on 2-D axis for visual exploration\n",
    "\n",
    "fig, ax = plt.subplots(figsize=(12,8))\n",
    "ax.scatter(data_M['smoothness_mean'], data_M['compactness_mean'], s=50, c='b', marker='o', label='Malignant')\n",
    "ax.scatter(data_B['smoothness_mean'], data_B['compactness_mean'], s=50, c='r', marker='x', label='Benign')\n",
    "ax.legend()\n",
    "ax.set_xlabel('smoothness mean')\n",
    "ax.set_ylabel('compactness mean')"
   ]
  },
  {
   "cell_type": "code",
   "execution_count": 16,
   "metadata": {},
   "outputs": [
    {
     "data": {
      "text/plain": [
       "<matplotlib.text.Text at 0x270f39a5390>"
      ]
     },
     "execution_count": 16,
     "metadata": {},
     "output_type": "execute_result"
    },
    {
     "data": {
      "image/png": "[encoded data removed]",
      "text/plain": [
       "<matplotlib.figure.Figure at 0x270f3c2ef28>"
      ]
     },
     "metadata": {},
     "output_type": "display_data"
    }
   ],
   "source": [
    "#randomly choosing columns radius mean and smoothness mean to plot on 2-D axis for visual exploration\n",
    "\n",
    "fig, ax = plt.subplots(figsize=(12,8))\n",
    "ax.scatter(data_M['radius_mean'], data_M['smoothness_mean'], s=50, c='b', marker='o', label='Malignant')\n",
    "ax.scatter(data_B['radius_mean'], data_B['smoothness_mean'], s=50, c='r', marker='x', label='Benign')\n",
    "ax.legend()\n",
    "ax.set_xlabel('radius mean')\n",
    "ax.set_ylabel('smoothness mean')"
   ]
  },
  {
   "cell_type": "code",
   "execution_count": 17,
   "metadata": {},
   "outputs": [
    {
     "data": {
      "text/plain": [
       "<matplotlib.text.Text at 0x270f399cd30>"
      ]
     },
     "execution_count": 17,
     "metadata": {},
     "output_type": "execute_result"
    },
    {
     "data": {
      "image/png": "[encoded data removed]",
      "text/plain": [
       "<matplotlib.figure.Figure at 0x270f3c577f0>"
      ]
     },
     "metadata": {},
     "output_type": "display_data"
    }
   ],
   "source": [
    "#randomly choosing columns radius mean and fractal dimension mean to plot on 2-D axis for visual exploration\n",
    "\n",
    "fig, ax = plt.subplots(figsize=(12,8))\n",
    "ax.scatter(data_M['radius_mean'], data_M['fractal_dimension_mean'], s=50, c='b', marker='o', label='Malignant')\n",
    "ax.scatter(data_B['radius_mean'], data_B['fractal_dimension_mean'], s=50, c='r', marker='x', label='Benign')\n",
    "ax.legend()\n",
    "ax.set_xlabel('smoothness mean')\n",
    "ax.set_ylabel('fractal dimension mean')"
   ]
  },
  {
   "cell_type": "markdown",
   "metadata": {},
   "source": [
    "From the above plots it is quite evident that compactness mean and smoothness mean can be used to chart a separable boundary between Malignant and Benign type of Cancer."
   ]
  },
  {
   "cell_type": "code",
   "execution_count": 18,
   "metadata": {},
   "outputs": [
    {
     "data": {
      "image/png": "[encoded data removed]",
      "text/plain": [
       "<matplotlib.figure.Figure at 0x270f3a81208>"
      ]
     },
     "metadata": {},
     "output_type": "display_data"
    }
   ],
   "source": [
    "#Create a Correlation plot between numeric features \n",
    "correlation = data.corr()\n",
    "#print(pd.DataFrame(correlation))\n",
    "fig = plt.figure()\n",
    "ax = fig.add_subplot(1,1,1)\n",
    "cax = ax.matshow(correlation, vmin=-1, vmax=1)\n",
    "fig.colorbar(cax)\n",
    "ticks = np.arange(0,29,1)\n",
    "ax.set_xticks(ticks)\n",
    "ax.set_yticks(ticks)\n",
    "ax.set_xticklabels(data.columns[2:],rotation = 90)\n",
    "ax.set_yticklabels(data.columns[2:])\n",
    "plt.show()"
   ]
  },
  {
   "cell_type": "markdown",
   "metadata": {},
   "source": [
    "Radius_mean is highly correlatedd with texture mean, radius worst,concavity_worst, concave points-sd error, etc. The above plot can be helpful in feature selection. It can help to prevent multicollinearity in linear models."
   ]
  },
  {
   "cell_type": "markdown",
   "metadata": {},
   "source": [
    "<a id='split'></a>\n",
    "### Splitting of Test and Train Data "
   ]
  },
  {
   "cell_type": "markdown",
   "metadata": {},
   "source": [
    "Taking 70% of the available data as the train data and  30% as test data "
   ]
  },
  {
   "cell_type": "code",
   "execution_count": 19,
   "metadata": {
    "collapsed": true
   },
   "outputs": [],
   "source": [
    "#splitting the data into test and train\n",
    "#for this split we assume all the numerical features(taking a full scale additive model) as independent variable and Diganosis as the dependent binary categorical variable\n",
    "x_train, x_test, y_train, y_test = model_selection.train_test_split(data.loc[:,'radius_mean':], data['diagnosis'], test_size=0.3, random_state=0)"
   ]
  },
  {
   "cell_type": "code",
   "execution_count": 20,
   "metadata": {},
   "outputs": [
    {
     "data": {
      "text/plain": [
       "((398, 30), (398,), (171, 30), (171,))"
      ]
     },
     "execution_count": 20,
     "metadata": {},
     "output_type": "execute_result"
    }
   ],
   "source": [
    "#looking at the dimesnions of the test and train data dependent variables and independent variables \n",
    "x_train.shape, y_train.shape, x_test.shape, y_test.shape"
   ]
  },
  {
   "cell_type": "markdown",
   "metadata": {},
   "source": [
    "<a id='mb'></a>\n",
    "### Model Building "
   ]
  },
  {
   "cell_type": "markdown",
   "metadata": {},
   "source": [
    "We shall use the Logit  and Decision Tress Classifier for the purpose of our analyis. (Logistic Regression belongs to a family of generalised linear models where as Decision Trees are non parametric model)"
   ]
  },
  {
   "cell_type": "markdown",
   "metadata": {},
   "source": [
    "<a id='lr'></a>\n",
    "### Model 1.  Logistic Regression "
   ]
  },
  {
   "cell_type": "markdown",
   "metadata": {},
   "source": [
    "Logistic Regression are a type of regresion model where the dependent variable is categorical. In these types of models\n",
    "we calculate the natural log of odds of class probabilities as a function of linear combination of independent variables. The class probabilities can be caculated from the formula below. \n",
    "\n",
    "#### Logit Function\n",
    "\n",
    "logit is log of of odd's ratio. \n",
    "\n",
    "Odds' ratio is the ratio of probability of success to failue. Here it reflects the probability of Bening type of Caner Cell to Malignant Type of Cancer Cell\n",
    "\n",
    "\n",
    "<img src= \"logit.png\">\n",
    "\n"
   ]
  },
  {
   "cell_type": "code",
   "execution_count": 21,
   "metadata": {},
   "outputs": [
    {
     "data": {
      "text/plain": [
       "LogisticRegression(C=1.0, class_weight=None, dual=False, fit_intercept=True,\n",
       "          intercept_scaling=1, max_iter=100, multi_class='ovr', n_jobs=1,\n",
       "          penalty='l2', random_state=None, solver='liblinear', tol=0.0001,\n",
       "          verbose=0, warm_start=False)"
      ]
     },
     "execution_count": 21,
     "metadata": {},
     "output_type": "execute_result"
    }
   ],
   "source": [
    "#fitting the model on train data\n",
    "model_log = linear_model.LogisticRegression()\n",
    "model_log.fit(x_train,y_train)"
   ]
  },
  {
   "cell_type": "code",
   "execution_count": 22,
   "metadata": {},
   "outputs": [
    {
     "data": {
      "text/html": [
       "<div>\n",
       "<style>\n",
       "    .dataframe thead tr:only-child th {\n",
       "        text-align: right;\n",
       "    }\n",
       "\n",
       "    .dataframe thead th {\n",
       "        text-align: left;\n",
       "    }\n",
       "\n",
       "    .dataframe tbody tr th {\n",
       "        vertical-align: top;\n",
       "    }\n",
       "</style>\n",
       "<table border=\"1\" class=\"dataframe\">\n",
       "  <thead>\n",
       "    <tr style=\"text-align: right;\">\n",
       "      <th></th>\n",
       "      <th>0</th>\n",
       "      <th>1</th>\n",
       "    </tr>\n",
       "  </thead>\n",
       "  <tbody>\n",
       "    <tr>\n",
       "      <th>0</th>\n",
       "      <td>radius_mean</td>\n",
       "      <td>[-1.70710281802]</td>\n",
       "    </tr>\n",
       "    <tr>\n",
       "      <th>1</th>\n",
       "      <td>radius_sd_error</td>\n",
       "      <td>[-0.107616790861]</td>\n",
       "    </tr>\n",
       "    <tr>\n",
       "      <th>2</th>\n",
       "      <td>radius_worst</td>\n",
       "      <td>[-0.0874010129088]</td>\n",
       "    </tr>\n",
       "    <tr>\n",
       "      <th>3</th>\n",
       "      <td>texture_mean</td>\n",
       "      <td>[0.00672901063862]</td>\n",
       "    </tr>\n",
       "    <tr>\n",
       "      <th>4</th>\n",
       "      <td>texture_sd_error</td>\n",
       "      <td>[0.124733105678]</td>\n",
       "    </tr>\n",
       "    <tr>\n",
       "      <th>5</th>\n",
       "      <td>texture_worst</td>\n",
       "      <td>[0.325280961818]</td>\n",
       "    </tr>\n",
       "    <tr>\n",
       "      <th>6</th>\n",
       "      <td>perimeter_mean</td>\n",
       "      <td>[0.50381484364]</td>\n",
       "    </tr>\n",
       "    <tr>\n",
       "      <th>7</th>\n",
       "      <td>perimeter_sd_error</td>\n",
       "      <td>[0.263108156184]</td>\n",
       "    </tr>\n",
       "    <tr>\n",
       "      <th>8</th>\n",
       "      <td>perimeter_worst</td>\n",
       "      <td>[0.247641034584]</td>\n",
       "    </tr>\n",
       "    <tr>\n",
       "      <th>9</th>\n",
       "      <td>area_mean</td>\n",
       "      <td>[0.020979458427]</td>\n",
       "    </tr>\n",
       "    <tr>\n",
       "      <th>10</th>\n",
       "      <td>area_sd_error</td>\n",
       "      <td>[-0.044216787569]</td>\n",
       "    </tr>\n",
       "    <tr>\n",
       "      <th>11</th>\n",
       "      <td>area_worst</td>\n",
       "      <td>[-0.962745090388]</td>\n",
       "    </tr>\n",
       "    <tr>\n",
       "      <th>12</th>\n",
       "      <td>smoothness_mean</td>\n",
       "      <td>[-0.0887884558258]</td>\n",
       "    </tr>\n",
       "    <tr>\n",
       "      <th>13</th>\n",
       "      <td>smoothness_sd_error</td>\n",
       "      <td>[0.105130076283]</td>\n",
       "    </tr>\n",
       "    <tr>\n",
       "      <th>14</th>\n",
       "      <td>smoothness_worst</td>\n",
       "      <td>[0.00835197816851]</td>\n",
       "    </tr>\n",
       "    <tr>\n",
       "      <th>15</th>\n",
       "      <td>compactness_mean</td>\n",
       "      <td>[-0.0112863294301]</td>\n",
       "    </tr>\n",
       "    <tr>\n",
       "      <th>16</th>\n",
       "      <td>compactness_sd_error</td>\n",
       "      <td>[0.0390862520374]</td>\n",
       "    </tr>\n",
       "    <tr>\n",
       "      <th>17</th>\n",
       "      <td>compactness_worst</td>\n",
       "      <td>[0.0293612797992]</td>\n",
       "    </tr>\n",
       "    <tr>\n",
       "      <th>18</th>\n",
       "      <td>concavity_mean</td>\n",
       "      <td>[0.0306929370696]</td>\n",
       "    </tr>\n",
       "    <tr>\n",
       "      <th>19</th>\n",
       "      <td>concavity_sd_error</td>\n",
       "      <td>[-0.00905124848805]</td>\n",
       "    </tr>\n",
       "    <tr>\n",
       "      <th>20</th>\n",
       "      <td>concavity_worst</td>\n",
       "      <td>[-1.42199601442]</td>\n",
       "    </tr>\n",
       "    <tr>\n",
       "      <th>21</th>\n",
       "      <td>concave_points_mean</td>\n",
       "      <td>[0.289834892624]</td>\n",
       "    </tr>\n",
       "    <tr>\n",
       "      <th>22</th>\n",
       "      <td>concave_points_sd_error</td>\n",
       "      <td>[0.2558782071]</td>\n",
       "    </tr>\n",
       "    <tr>\n",
       "      <th>23</th>\n",
       "      <td>concave_points_worst</td>\n",
       "      <td>[0.0189721938966]</td>\n",
       "    </tr>\n",
       "    <tr>\n",
       "      <th>24</th>\n",
       "      <td>symmetry_mean</td>\n",
       "      <td>[0.214596498501]</td>\n",
       "    </tr>\n",
       "    <tr>\n",
       "      <th>25</th>\n",
       "      <td>symmetry_sd_error</td>\n",
       "      <td>[0.999194261563]</td>\n",
       "    </tr>\n",
       "    <tr>\n",
       "      <th>26</th>\n",
       "      <td>symmetry_worst</td>\n",
       "      <td>[1.48331571047]</td>\n",
       "    </tr>\n",
       "    <tr>\n",
       "      <th>27</th>\n",
       "      <td>fractal_dimension_mean</td>\n",
       "      <td>[0.542716089865]</td>\n",
       "    </tr>\n",
       "    <tr>\n",
       "      <th>28</th>\n",
       "      <td>fractal_dimension_sd_error</td>\n",
       "      <td>[0.601972180877]</td>\n",
       "    </tr>\n",
       "    <tr>\n",
       "      <th>29</th>\n",
       "      <td>fractal_dimension_worst</td>\n",
       "      <td>[0.105876809414]</td>\n",
       "    </tr>\n",
       "  </tbody>\n",
       "</table>\n",
       "</div>"
      ],
      "text/plain": [
       "                             0                    1\n",
       "0                  radius_mean     [-1.70710281802]\n",
       "1              radius_sd_error    [-0.107616790861]\n",
       "2                 radius_worst   [-0.0874010129088]\n",
       "3                 texture_mean   [0.00672901063862]\n",
       "4             texture_sd_error     [0.124733105678]\n",
       "5                texture_worst     [0.325280961818]\n",
       "6               perimeter_mean      [0.50381484364]\n",
       "7           perimeter_sd_error     [0.263108156184]\n",
       "8              perimeter_worst     [0.247641034584]\n",
       "9                    area_mean     [0.020979458427]\n",
       "10               area_sd_error    [-0.044216787569]\n",
       "11                  area_worst    [-0.962745090388]\n",
       "12             smoothness_mean   [-0.0887884558258]\n",
       "13         smoothness_sd_error     [0.105130076283]\n",
       "14            smoothness_worst   [0.00835197816851]\n",
       "15            compactness_mean   [-0.0112863294301]\n",
       "16        compactness_sd_error    [0.0390862520374]\n",
       "17           compactness_worst    [0.0293612797992]\n",
       "18              concavity_mean    [0.0306929370696]\n",
       "19          concavity_sd_error  [-0.00905124848805]\n",
       "20             concavity_worst     [-1.42199601442]\n",
       "21         concave_points_mean     [0.289834892624]\n",
       "22     concave_points_sd_error       [0.2558782071]\n",
       "23        concave_points_worst    [0.0189721938966]\n",
       "24               symmetry_mean     [0.214596498501]\n",
       "25           symmetry_sd_error     [0.999194261563]\n",
       "26              symmetry_worst      [1.48331571047]\n",
       "27      fractal_dimension_mean     [0.542716089865]\n",
       "28  fractal_dimension_sd_error     [0.601972180877]\n",
       "29     fractal_dimension_worst     [0.105876809414]"
      ]
     },
     "execution_count": 22,
     "metadata": {},
     "output_type": "execute_result"
    }
   ],
   "source": [
    "#lets look at the coefficients to identify the ones are important\n",
    "pd.DataFrame(list(zip(x_train.columns,np.transpose(model_log.coef_))))"
   ]
  },
  {
   "cell_type": "markdown",
   "metadata": {},
   "source": [
    "Increase in symmetry_worst, symmmetry_sd_error are likely to increase in likelihood of having Bening Cancer Type. The radius mean and concavity worst might are likely to increase the likelihood of Malignant Cancer Type. \n",
    "The above coefficients reflect the chnages in the value of the logit by a unit change in the value of  a predictor. For e.g. a unit change in symmetry worst would cause the log of odds to change by 0.999 units.This reflects the potential of symmetry worst to affect the logit. \n",
    "\n",
    "Note : From the correlation matrix we know that symmetry_worst and symmmetry_sd_error are highly correlated to each other. We might have to try different variants of the model with/without the above two features to ascertain how they are affecting the logit classifier"
   ]
  },
  {
   "cell_type": "code",
   "execution_count": 23,
   "metadata": {},
   "outputs": [
    {
     "data": {
      "text/plain": [
       "0.957286432160804"
      ]
     },
     "execution_count": 23,
     "metadata": {},
     "output_type": "execute_result"
    }
   ],
   "source": [
    "#evaluating the fitness of model on train data itself\n",
    "model_log.score(x_train,y_train)"
   ]
  },
  {
   "cell_type": "markdown",
   "metadata": {},
   "source": [
    "The model fits quite well on the train data"
   ]
  },
  {
   "cell_type": "code",
   "execution_count": 24,
   "metadata": {},
   "outputs": [
    {
     "name": "stdout",
     "output_type": "stream",
     "text": [
      "['M' 'B' 'B' 'B' 'B' 'B' 'B' 'B' 'B' 'B' 'B' 'B' 'B' 'M' 'B' 'M' 'B' 'M'\n",
      " 'M' 'M' 'M' 'M' 'B' 'B' 'M' 'B' 'B' 'M' 'B' 'M' 'B' 'M' 'B' 'M' 'B' 'M'\n",
      " 'B' 'M' 'B' 'M' 'M' 'B' 'M' 'B' 'M' 'M' 'B' 'B' 'B' 'M' 'M' 'M' 'M' 'B'\n",
      " 'B' 'B' 'B' 'B' 'B' 'M' 'M' 'M' 'B' 'B' 'M' 'B' 'M' 'M' 'M' 'B' 'M' 'M'\n",
      " 'B' 'B' 'M' 'B' 'B' 'B' 'B' 'B' 'M' 'M' 'M' 'B' 'M' 'B' 'B' 'B' 'M' 'M'\n",
      " 'B' 'M' 'M' 'M' 'B' 'B' 'M' 'B' 'B' 'B' 'B' 'B' 'B' 'B' 'M' 'B' 'M' 'B'\n",
      " 'M' 'M' 'B' 'M' 'M' 'B' 'B' 'B' 'B' 'B' 'B' 'B' 'B' 'B' 'M' 'B' 'M' 'B'\n",
      " 'M' 'B' 'B' 'B' 'M' 'B' 'B' 'B' 'B' 'B' 'B' 'M' 'M' 'B' 'B' 'B' 'M' 'B'\n",
      " 'B' 'M' 'B' 'M' 'B' 'B' 'B' 'B' 'B' 'B' 'B' 'M' 'B' 'M' 'B' 'M' 'M' 'B'\n",
      " 'B' 'M' 'B' 'M' 'M' 'M' 'B' 'B' 'B']\n",
      "[[  7.25150598e-03   9.92748494e-01]\n",
      " [  9.68493582e-01   3.15064176e-02]\n",
      " [  9.97058715e-01   2.94128519e-03]\n",
      " [  7.95618352e-01   2.04381648e-01]\n",
      " [  9.99888909e-01   1.11090792e-04]\n",
      " [  9.96226483e-01   3.77351722e-03]\n",
      " [  9.90132891e-01   9.86710890e-03]\n",
      " [  9.97823314e-01   2.17668642e-03]\n",
      " [  9.58567973e-01   4.14320272e-02]\n",
      " [  9.99665858e-01   3.34141896e-04]\n",
      " [  5.05131995e-01   4.94868005e-01]\n",
      " [  8.44077317e-01   1.55922683e-01]\n",
      " [  9.94680865e-01   5.31913500e-03]\n",
      " [  2.27640255e-01   7.72359745e-01]\n",
      " [  7.44500243e-01   2.55499757e-01]\n",
      " [  9.07480633e-03   9.90925194e-01]\n",
      " [  9.78146779e-01   2.18532214e-02]\n",
      " [  4.76751882e-09   9.99999995e-01]\n",
      " [  1.76220248e-03   9.98237798e-01]\n",
      " [  9.55391322e-12   1.00000000e+00]\n",
      " [  2.91476817e-05   9.99970852e-01]\n",
      " [  8.77392422e-02   9.12260758e-01]\n",
      " [  9.97778563e-01   2.22143667e-03]\n",
      " [  9.86140341e-01   1.38596593e-02]\n",
      " [  9.21774037e-03   9.90782260e-01]\n",
      " [  9.85508141e-01   1.44918592e-02]\n",
      " [  9.97149831e-01   2.85016924e-03]\n",
      " [  1.63098780e-01   8.36901220e-01]\n",
      " [  9.95864638e-01   4.13536163e-03]\n",
      " [  1.19876553e-10   1.00000000e+00]\n",
      " [  9.99445838e-01   5.54162280e-04]\n",
      " [  5.74036076e-08   9.99999943e-01]\n",
      " [  5.87603145e-01   4.12396855e-01]\n",
      " [  7.18195259e-04   9.99281805e-01]\n",
      " [  9.99694782e-01   3.05218068e-04]\n",
      " [  1.69091892e-03   9.98309081e-01]\n",
      " [  9.02720715e-01   9.72792848e-02]\n",
      " [  2.91731700e-06   9.99997083e-01]\n",
      " [  9.94684158e-01   5.31584225e-03]\n",
      " [  4.35269310e-04   9.99564731e-01]\n",
      " [  6.84984778e-02   9.31501522e-01]\n",
      " [  9.92912512e-01   7.08748817e-03]\n",
      " [  2.90650085e-03   9.97093499e-01]\n",
      " [  9.98751220e-01   1.24877973e-03]\n",
      " [  4.29747656e-02   9.57025234e-01]\n",
      " [  3.09752224e-12   1.00000000e+00]\n",
      " [  9.99540393e-01   4.59606660e-04]\n",
      " [  9.68318842e-01   3.16811584e-02]\n",
      " [  9.98471083e-01   1.52891746e-03]\n",
      " [  3.67212843e-04   9.99632787e-01]\n",
      " [  3.72419356e-06   9.99996276e-01]\n",
      " [  2.62601549e-01   7.37398451e-01]\n",
      " [  8.55581598e-07   9.99999144e-01]\n",
      " [  9.94154706e-01   5.84529393e-03]\n",
      " [  9.88612030e-01   1.13879700e-02]\n",
      " [  9.98677059e-01   1.32294129e-03]\n",
      " [  9.82827350e-01   1.71726503e-02]\n",
      " [  9.75454025e-01   2.45459752e-02]\n",
      " [  9.80783435e-01   1.92165654e-02]\n",
      " [  0.00000000e+00   1.00000000e+00]\n",
      " [  1.30536399e-02   9.86946360e-01]\n",
      " [  6.73186458e-05   9.99932681e-01]\n",
      " [  9.96472998e-01   3.52700165e-03]\n",
      " [  9.93868760e-01   6.13124009e-03]\n",
      " [  1.31459182e-07   9.99999869e-01]\n",
      " [  8.73774332e-01   1.26225668e-01]\n",
      " [  0.00000000e+00   1.00000000e+00]\n",
      " [  1.43657723e-05   9.99985634e-01]\n",
      " [  4.00629565e-08   9.99999960e-01]\n",
      " [  9.87659867e-01   1.23401330e-02]\n",
      " [  3.87273441e-01   6.12726559e-01]\n",
      " [  1.43011773e-05   9.99985699e-01]\n",
      " [  9.96215068e-01   3.78493194e-03]\n",
      " [  8.42022976e-01   1.57977024e-01]\n",
      " [  2.11432715e-06   9.99997886e-01]\n",
      " [  9.72041191e-01   2.79588093e-02]\n",
      " [  9.95932574e-01   4.06742624e-03]\n",
      " [  9.89886869e-01   1.01131309e-02]\n",
      " [  9.92611473e-01   7.38852657e-03]\n",
      " [  9.90529572e-01   9.47042845e-03]\n",
      " [  2.03656895e-03   9.97963431e-01]\n",
      " [  6.93873403e-10   9.99999999e-01]\n",
      " [  1.89913834e-05   9.99981009e-01]\n",
      " [  9.99503025e-01   4.96975409e-04]\n",
      " [  6.10349476e-02   9.38965052e-01]\n",
      " [  9.98836980e-01   1.16301977e-03]\n",
      " [  9.95848897e-01   4.15110290e-03]\n",
      " [  9.97647366e-01   2.35263443e-03]\n",
      " [  2.59816669e-05   9.99974018e-01]\n",
      " [  2.87705415e-11   1.00000000e+00]\n",
      " [  9.99507335e-01   4.92664782e-04]\n",
      " [  2.24340851e-01   7.75659149e-01]\n",
      " [  3.75306541e-01   6.24693459e-01]\n",
      " [  2.80400920e-04   9.99719599e-01]\n",
      " [  9.80834843e-01   1.91651575e-02]\n",
      " [  9.84358423e-01   1.56415770e-02]\n",
      " [  1.99840144e-15   1.00000000e+00]\n",
      " [  7.15702187e-01   2.84297813e-01]\n",
      " [  9.59430316e-01   4.05696844e-02]\n",
      " [  9.87308993e-01   1.26910072e-02]\n",
      " [  9.97803379e-01   2.19662146e-03]\n",
      " [  9.93693411e-01   6.30658892e-03]\n",
      " [  9.92148168e-01   7.85183189e-03]\n",
      " [  8.90363072e-01   1.09636928e-01]\n",
      " [  2.07640579e-07   9.99999792e-01]\n",
      " [  9.97058749e-01   2.94125127e-03]\n",
      " [  4.18212571e-05   9.99958179e-01]\n",
      " [  8.03740751e-01   1.96259249e-01]\n",
      " [  1.85161575e-01   8.14838425e-01]\n",
      " [  2.10546100e-01   7.89453900e-01]\n",
      " [  9.74212353e-01   2.57876468e-02]\n",
      " [  8.08561739e-04   9.99191438e-01]\n",
      " [  1.46611708e-05   9.99985339e-01]\n",
      " [  8.69838219e-01   1.30161781e-01]\n",
      " [  9.93347617e-01   6.65238274e-03]\n",
      " [  8.49656890e-01   1.50343110e-01]\n",
      " [  9.35973523e-01   6.40264766e-02]\n",
      " [  9.99279866e-01   7.20134351e-04]\n",
      " [  7.94087341e-01   2.05912659e-01]\n",
      " [  9.93405057e-01   6.59494336e-03]\n",
      " [  9.87900654e-01   1.20993464e-02]\n",
      " [  9.97613777e-01   2.38622330e-03]\n",
      " [  5.45224962e-02   9.45477504e-01]\n",
      " [  9.91011155e-01   8.98884509e-03]\n",
      " [  4.99895173e-08   9.99999950e-01]\n",
      " [  9.49636566e-01   5.03634342e-02]\n",
      " [  3.63320502e-01   6.36679498e-01]\n",
      " [  9.99382335e-01   6.17665013e-04]\n",
      " [  9.98827352e-01   1.17264826e-03]\n",
      " [  9.98260112e-01   1.73988772e-03]\n",
      " [  3.35322103e-06   9.99996647e-01]\n",
      " [  9.83173378e-01   1.68266223e-02]\n",
      " [  9.97171603e-01   2.82839660e-03]\n",
      " [  8.66256997e-01   1.33743003e-01]\n",
      " [  8.73718199e-01   1.26281801e-01]\n",
      " [  9.99619793e-01   3.80206772e-04]\n",
      " [  7.11003252e-01   2.88996748e-01]\n",
      " [  8.55221143e-02   9.14477886e-01]\n",
      " [  0.00000000e+00   1.00000000e+00]\n",
      " [  9.99029661e-01   9.70338558e-04]\n",
      " [  9.97457392e-01   2.54260825e-03]\n",
      " [  9.99258700e-01   7.41299999e-04]\n",
      " [  4.04343226e-13   1.00000000e+00]\n",
      " [  9.93020158e-01   6.97984183e-03]\n",
      " [  9.98489879e-01   1.51012052e-03]\n",
      " [  1.77361018e-08   9.99999982e-01]\n",
      " [  9.39193834e-01   6.08061656e-02]\n",
      " [  1.44242502e-01   8.55757498e-01]\n",
      " [  9.86038836e-01   1.39611637e-02]\n",
      " [  9.88908008e-01   1.10919919e-02]\n",
      " [  9.93303857e-01   6.69614304e-03]\n",
      " [  8.64989341e-01   1.35010659e-01]\n",
      " [  9.39673767e-01   6.03262329e-02]\n",
      " [  8.75457889e-01   1.24542111e-01]\n",
      " [  9.98867519e-01   1.13248086e-03]\n",
      " [  3.45994704e-02   9.65400530e-01]\n",
      " [  9.45175002e-01   5.48249980e-02]\n",
      " [  2.75169306e-02   9.72483069e-01]\n",
      " [  9.96237720e-01   3.76228019e-03]\n",
      " [  3.90212069e-07   9.99999610e-01]\n",
      " [  1.06439637e-06   9.99998936e-01]\n",
      " [  9.96411961e-01   3.58803945e-03]\n",
      " [  6.26534775e-01   3.73465225e-01]\n",
      " [  9.03914860e-05   9.99909609e-01]\n",
      " [  9.97866615e-01   2.13338467e-03]\n",
      " [  7.12005610e-03   9.92879944e-01]\n",
      " [  1.52448289e-02   9.84755171e-01]\n",
      " [  1.00193162e-03   9.98998068e-01]\n",
      " [  9.34555102e-01   6.54448983e-02]\n",
      " [  9.83853801e-01   1.61461989e-02]\n",
      " [  9.98776908e-01   1.22309196e-03]]\n"
     ]
    }
   ],
   "source": [
    "#evaluating the class labels for test data\n",
    "y_predicted_log = model_log.predict(x_test)\n",
    "y_prob_predicted_log = model_log.predict_proba(x_test)\n",
    "print (y_predicted_log)\n",
    "print(y_prob_predicted_log)"
   ]
  },
  {
   "cell_type": "code",
   "execution_count": 25,
   "metadata": {
    "scrolled": true
   },
   "outputs": [
    {
     "name": "stdout",
     "output_type": "stream",
     "text": [
      "0.964912280702\n"
     ]
    }
   ],
   "source": [
    "#looking at the accuracy and ROC AUC metrics\n",
    "print(metrics.accuracy_score(y_test,y_predicted_log))"
   ]
  },
  {
   "cell_type": "markdown",
   "metadata": {},
   "source": [
    "The classification accuracy on test data is quite high too. However, accuracy is one of the many metrics to asses a classification model. For full scale evualtion of the classifier we have to look at the Receiver Operator Curve and confusion matrix."
   ]
  },
  {
   "cell_type": "code",
   "execution_count": 26,
   "metadata": {},
   "outputs": [
    {
     "name": "stdout",
     "output_type": "stream",
     "text": [
      "Area under the ROC curve : 0.996179\n"
     ]
    }
   ],
   "source": [
    "#Calculating the Area Under the ROC Curve\n",
    "fpr, tpr, thresholds = metrics.roc_curve(y_test, y_prob_predicted_log[:,1],pos_label= \"M\")\n",
    "roc_auc = metrics.auc(fpr, tpr)\n",
    "print(\"Area under the ROC curve : %f\" % roc_auc)"
   ]
  },
  {
   "cell_type": "code",
   "execution_count": 27,
   "metadata": {},
   "outputs": [
    {
     "data": {
      "text/plain": [
       "<matplotlib.text.Text at 0x270f50d8978>"
      ]
     },
     "execution_count": 27,
     "metadata": {},
     "output_type": "execute_result"
    },
    {
     "data": {
      "image/png": "[encoded data removed]",
      "text/plain": [
       "<matplotlib.figure.Figure at 0x270f5043d68>"
      ]
     },
     "metadata": {},
     "output_type": "display_data"
    }
   ],
   "source": [
    "# Plotting ROC Curve\n",
    "plt.plot(fpr,tpr,label='AUC = %0.2f'% roc_auc)\n",
    "plt.xlabel('False Positive Rate')\n",
    "plt.ylabel('True Positive Rate')\n",
    "plt.legend(loc=\"lower right\")\n",
    "plt.title('Receiver operating characteristic')"
   ]
  },
  {
   "cell_type": "code",
   "execution_count": 28,
   "metadata": {},
   "outputs": [
    {
     "name": "stdout",
     "output_type": "stream",
     "text": [
      "confusion Matrix\n",
      " [[103   5]\n",
      " [  1  62]]\n",
      "\n",
      " Classification report\n",
      "              precision    recall  f1-score   support\n",
      "\n",
      "          B       0.99      0.95      0.97       108\n",
      "          M       0.93      0.98      0.95        63\n",
      "\n",
      "avg / total       0.97      0.96      0.97       171\n",
      "\n"
     ]
    }
   ],
   "source": [
    "#Confusion Matrix and Classification report\n",
    "print('confusion Matrix\\n',metrics.confusion_matrix(y_test, y_predicted_log))\n",
    "print('\\n Classification report\\n', metrics.classification_report(y_test, y_predicted_log))"
   ]
  },
  {
   "cell_type": "markdown",
   "metadata": {},
   "source": [
    "#### Inferences from Logistic Regression Model"
   ]
  },
  {
   "cell_type": "markdown",
   "metadata": {},
   "source": [
    "The prediction accuracy of the logit model is 96.5 %. The Area under ROC Curve is 1. These are strongly indicative of the strength of the  logit classifier. (Though there is always remove for improvement)"
   ]
  },
  {
   "cell_type": "markdown",
   "metadata": {},
   "source": [
    "#### Advantages of Logistic Regression\n",
    "\n",
    "1.) Allows exploitation of properties of Regression.\n",
    "\n",
    "2.) Easy to familiarise with.\n",
    "\n",
    "3.) Gets rid of most assumptions of regression models like homogenity of variance, normal distribution of errors etc.\n",
    "\n",
    "4.) Capable of adding non-linear boundary\n",
    "\n",
    "5.) Doesn't require the predictor space to follow a particular distribution."
   ]
  },
  {
   "cell_type": "markdown",
   "metadata": {},
   "source": [
    "#### Disadvantages of Logistic Regression\n",
    "\n",
    "1.) Unsuitable for handling complex non linear decision boundaries\n",
    "\n",
    "2.) Multicollinearity can pose a threat(However you can tackle this by Regularization)"
   ]
  },
  {
   "cell_type": "markdown",
   "metadata": {},
   "source": [
    "#### What More could be done\n",
    "\n",
    "1.) Perform Variable selection and try building different logit models other than the full scale additive model.(Could also try building model using interactive features)\n",
    "\n",
    "2.) Add and cross validate regularisation to the the Logit Classifier.\n",
    "\n",
    "3.) Perfrom K-Fold Cross validation to evaluate the strength of the model. This will help to provide a more robust and reliable solution\n",
    "\n",
    "4.) Add a validation set and verify \n"
   ]
  },
  {
   "cell_type": "markdown",
   "metadata": {},
   "source": [
    "<a id='dtree'></a>\n",
    "### Model 2.  Decision Tree Classifier"
   ]
  },
  {
   "cell_type": "markdown",
   "metadata": {},
   "source": [
    "This method involves stratifying or segmenting the predictor space into a number of regions based on certain splitting criteria. These splitting rules can be framed in shape of a tree to reach the final output. Recursive Binary Splitting is done to grow a tree and create different regions.\n",
    "They can be used for both Regression and Classification tasks. \n",
    "\n",
    "For classification task Gini Impurity or Cross Entropy error metric to decide the splitting criteria for each region.\n"
   ]
  },
  {
   "cell_type": "markdown",
   "metadata": {},
   "source": [
    "<img src=\"cart.png\">"
   ]
  },
  {
   "cell_type": "markdown",
   "metadata": {},
   "source": [
    "Source : [Scikit Learn-Decision Trees](http://scikit-learn.org/stable/modules/tree.html)"
   ]
  },
  {
   "cell_type": "code",
   "execution_count": 29,
   "metadata": {
    "collapsed": true
   },
   "outputs": [],
   "source": [
    "#building the decision tree classification model and fitting it on x_train and y_train\n",
    "model_dtree = tree.DecisionTreeClassifier(criterion= \"gini\",random_state= 10).fit(x_train,y_train)"
   ]
  },
  {
   "cell_type": "code",
   "execution_count": 30,
   "metadata": {},
   "outputs": [
    {
     "data": {
      "image/svg+xml": [
       "<svg height=\"789pt\" viewBox=\"0.00 0.00 1468.50 789.00\" width=\"1469pt\" xmlns=\"http://www.w3.org/2000/svg\" xmlns:xlink=\"http://www.w3.org/1999/xlink\">\n",
       "<g class=\"graph\" id=\"graph0\" transform=\"scale(1 1) rotate(0) translate(4 785)\">\n",
       "<title>Tree</title>\n",
       "<polygon fill=\"white\" points=\"-4,4 -4,-785 1464.5,-785 1464.5,4 -4,4\" stroke=\"none\"/>\n",
       "<!-- 0 -->\n",
       "<g class=\"node\" id=\"node1\"><title>0</title>\n",
       "<polygon fill=\"none\" points=\"1152.5,-781 938.5,-781 938.5,-713 1152.5,-713 1152.5,-781\" stroke=\"black\"/>\n",
       "<text font-family=\"Times New Roman,serif\" font-size=\"14.00\" text-anchor=\"middle\" x=\"1045.5\" y=\"-765.8\">fractal_dimension_mean &lt;= 0.1423</text>\n",
       "<text font-family=\"Times New Roman,serif\" font-size=\"14.00\" text-anchor=\"middle\" x=\"1045.5\" y=\"-750.8\">gini = 0.4684</text>\n",
       "<text font-family=\"Times New Roman,serif\" font-size=\"14.00\" text-anchor=\"middle\" x=\"1045.5\" y=\"-735.8\">samples = 398</text>\n",
       "<text font-family=\"Times New Roman,serif\" font-size=\"14.00\" text-anchor=\"middle\" x=\"1045.5\" y=\"-720.8\">value = [249, 149]</text>\n",
       "</g>\n",
       "<!-- 1 -->\n",
       "<g class=\"node\" id=\"node2\"><title>1</title>\n",
       "<polygon fill=\"none\" points=\"1031,-677 860,-677 860,-609 1031,-609 1031,-677\" stroke=\"black\"/>\n",
       "<text font-family=\"Times New Roman,serif\" font-size=\"14.00\" text-anchor=\"middle\" x=\"945.5\" y=\"-661.8\">concavity_worst &lt;= 17.615</text>\n",
       "<text font-family=\"Times New Roman,serif\" font-size=\"14.00\" text-anchor=\"middle\" x=\"945.5\" y=\"-646.8\">gini = 0.1469</text>\n",
       "<text font-family=\"Times New Roman,serif\" font-size=\"14.00\" text-anchor=\"middle\" x=\"945.5\" y=\"-631.8\">samples = 263</text>\n",
       "<text font-family=\"Times New Roman,serif\" font-size=\"14.00\" text-anchor=\"middle\" x=\"945.5\" y=\"-616.8\">value = [242, 21]</text>\n",
       "</g>\n",
       "<!-- 0&#45;&gt;1 -->\n",
       "<g class=\"edge\" id=\"edge1\"><title>0-&gt;1</title>\n",
       "<path d=\"M1013.03,-712.884C1004.21,-703.887 994.559,-694.041 985.381,-684.678\" fill=\"none\" stroke=\"black\"/>\n",
       "<polygon fill=\"black\" points=\"987.646,-681.99 978.146,-677.299 982.648,-686.89 987.646,-681.99\" stroke=\"black\"/>\n",
       "<text font-family=\"Times New Roman,serif\" font-size=\"14.00\" text-anchor=\"middle\" x=\"977.899\" y=\"-698.598\">True</text>\n",
       "</g>\n",
       "<!-- 26 -->\n",
       "<g class=\"node\" id=\"node27\"><title>26</title>\n",
       "<polygon fill=\"none\" points=\"1243.5,-677 1049.5,-677 1049.5,-609 1243.5,-609 1243.5,-677\" stroke=\"black\"/>\n",
       "<text font-family=\"Times New Roman,serif\" font-size=\"14.00\" text-anchor=\"middle\" x=\"1146.5\" y=\"-661.8\">smoothness_sd_error &lt;= 13.93</text>\n",
       "<text font-family=\"Times New Roman,serif\" font-size=\"14.00\" text-anchor=\"middle\" x=\"1146.5\" y=\"-646.8\">gini = 0.0983</text>\n",
       "<text font-family=\"Times New Roman,serif\" font-size=\"14.00\" text-anchor=\"middle\" x=\"1146.5\" y=\"-631.8\">samples = 135</text>\n",
       "<text font-family=\"Times New Roman,serif\" font-size=\"14.00\" text-anchor=\"middle\" x=\"1146.5\" y=\"-616.8\">value = [7, 128]</text>\n",
       "</g>\n",
       "<!-- 0&#45;&gt;26 -->\n",
       "<g class=\"edge\" id=\"edge26\"><title>0-&gt;26</title>\n",
       "<path d=\"M1078.29,-712.884C1087.2,-703.887 1096.95,-694.041 1106.22,-684.678\" fill=\"none\" stroke=\"black\"/>\n",
       "<polygon fill=\"black\" points=\"1108.98,-686.868 1113.53,-677.299 1104,-681.943 1108.98,-686.868\" stroke=\"black\"/>\n",
       "<text font-family=\"Times New Roman,serif\" font-size=\"14.00\" text-anchor=\"middle\" x=\"1113.65\" y=\"-698.599\">False</text>\n",
       "</g>\n",
       "<!-- 2 -->\n",
       "<g class=\"node\" id=\"node3\"><title>2</title>\n",
       "<polygon fill=\"none\" points=\"856.5,-573 662.5,-573 662.5,-505 856.5,-505 856.5,-573\" stroke=\"black\"/>\n",
       "<text font-family=\"Times New Roman,serif\" font-size=\"14.00\" text-anchor=\"middle\" x=\"759.5\" y=\"-557.8\">smoothness_sd_error &lt;= 35.26</text>\n",
       "<text font-family=\"Times New Roman,serif\" font-size=\"14.00\" text-anchor=\"middle\" x=\"759.5\" y=\"-542.8\">gini = 0.0768</text>\n",
       "<text font-family=\"Times New Roman,serif\" font-size=\"14.00\" text-anchor=\"middle\" x=\"759.5\" y=\"-527.8\">samples = 250</text>\n",
       "<text font-family=\"Times New Roman,serif\" font-size=\"14.00\" text-anchor=\"middle\" x=\"759.5\" y=\"-512.8\">value = [240, 10]</text>\n",
       "</g>\n",
       "<!-- 1&#45;&gt;2 -->\n",
       "<g class=\"edge\" id=\"edge2\"><title>1-&gt;2</title>\n",
       "<path d=\"M885.111,-608.884C867.153,-599.035 847.337,-588.169 828.855,-578.034\" fill=\"none\" stroke=\"black\"/>\n",
       "<polygon fill=\"black\" points=\"830.355,-574.864 819.904,-573.125 826.989,-581.002 830.355,-574.864\" stroke=\"black\"/>\n",
       "</g>\n",
       "<!-- 23 -->\n",
       "<g class=\"node\" id=\"node24\"><title>23</title>\n",
       "<polygon fill=\"none\" points=\"1044,-573 875,-573 875,-505 1044,-505 1044,-573\" stroke=\"black\"/>\n",
       "<text font-family=\"Times New Roman,serif\" font-size=\"14.00\" text-anchor=\"middle\" x=\"959.5\" y=\"-557.8\">perimeter_worst &lt;= 0.1516</text>\n",
       "<text font-family=\"Times New Roman,serif\" font-size=\"14.00\" text-anchor=\"middle\" x=\"959.5\" y=\"-542.8\">gini = 0.2604</text>\n",
       "<text font-family=\"Times New Roman,serif\" font-size=\"14.00\" text-anchor=\"middle\" x=\"959.5\" y=\"-527.8\">samples = 13</text>\n",
       "<text font-family=\"Times New Roman,serif\" font-size=\"14.00\" text-anchor=\"middle\" x=\"959.5\" y=\"-512.8\">value = [2, 11]</text>\n",
       "</g>\n",
       "<!-- 1&#45;&gt;23 -->\n",
       "<g class=\"edge\" id=\"edge23\"><title>1-&gt;23</title>\n",
       "<path d=\"M950.045,-608.884C951.158,-600.778 952.365,-591.982 953.533,-583.472\" fill=\"none\" stroke=\"black\"/>\n",
       "<polygon fill=\"black\" points=\"957.037,-583.682 954.929,-573.299 950.102,-582.731 957.037,-583.682\" stroke=\"black\"/>\n",
       "</g>\n",
       "<!-- 3 -->\n",
       "<g class=\"node\" id=\"node4\"><title>3</title>\n",
       "<polygon fill=\"none\" points=\"650.5,-469 436.5,-469 436.5,-401 650.5,-401 650.5,-469\" stroke=\"black\"/>\n",
       "<text font-family=\"Times New Roman,serif\" font-size=\"14.00\" text-anchor=\"middle\" x=\"543.5\" y=\"-453.8\">fractal_dimension_mean &lt;= 0.1359</text>\n",
       "<text font-family=\"Times New Roman,serif\" font-size=\"14.00\" text-anchor=\"middle\" x=\"543.5\" y=\"-438.8\">gini = 0.0339</text>\n",
       "<text font-family=\"Times New Roman,serif\" font-size=\"14.00\" text-anchor=\"middle\" x=\"543.5\" y=\"-423.8\">samples = 232</text>\n",
       "<text font-family=\"Times New Roman,serif\" font-size=\"14.00\" text-anchor=\"middle\" x=\"543.5\" y=\"-408.8\">value = [228, 4]</text>\n",
       "</g>\n",
       "<!-- 2&#45;&gt;3 -->\n",
       "<g class=\"edge\" id=\"edge3\"><title>2-&gt;3</title>\n",
       "<path d=\"M689.371,-504.884C668.137,-494.856 644.667,-483.773 622.873,-473.482\" fill=\"none\" stroke=\"black\"/>\n",
       "<polygon fill=\"black\" points=\"624.184,-470.23 613.646,-469.125 621.194,-476.56 624.184,-470.23\" stroke=\"black\"/>\n",
       "</g>\n",
       "<!-- 16 -->\n",
       "<g class=\"node\" id=\"node17\"><title>16</title>\n",
       "<polygon fill=\"none\" points=\"858.5,-469 686.5,-469 686.5,-401 858.5,-401 858.5,-469\" stroke=\"black\"/>\n",
       "<text font-family=\"Times New Roman,serif\" font-size=\"14.00\" text-anchor=\"middle\" x=\"772.5\" y=\"-453.8\">symmetry_worst &lt;= 0.2835</text>\n",
       "<text font-family=\"Times New Roman,serif\" font-size=\"14.00\" text-anchor=\"middle\" x=\"772.5\" y=\"-438.8\">gini = 0.4444</text>\n",
       "<text font-family=\"Times New Roman,serif\" font-size=\"14.00\" text-anchor=\"middle\" x=\"772.5\" y=\"-423.8\">samples = 18</text>\n",
       "<text font-family=\"Times New Roman,serif\" font-size=\"14.00\" text-anchor=\"middle\" x=\"772.5\" y=\"-408.8\">value = [12, 6]</text>\n",
       "</g>\n",
       "<!-- 2&#45;&gt;16 -->\n",
       "<g class=\"edge\" id=\"edge16\"><title>2-&gt;16</title>\n",
       "<path d=\"M763.721,-504.884C764.754,-496.778 765.875,-487.982 766.959,-479.472\" fill=\"none\" stroke=\"black\"/>\n",
       "<polygon fill=\"black\" points=\"770.464,-479.662 768.256,-469.299 763.52,-478.777 770.464,-479.662\" stroke=\"black\"/>\n",
       "</g>\n",
       "<!-- 4 -->\n",
       "<g class=\"node\" id=\"node5\"><title>4</title>\n",
       "<polygon fill=\"none\" points=\"408.5,-365 224.5,-365 224.5,-297 408.5,-297 408.5,-365\" stroke=\"black\"/>\n",
       "<text font-family=\"Times New Roman,serif\" font-size=\"14.00\" text-anchor=\"middle\" x=\"316.5\" y=\"-349.8\">smoothness_worst &lt;= 0.0033</text>\n",
       "<text font-family=\"Times New Roman,serif\" font-size=\"14.00\" text-anchor=\"middle\" x=\"316.5\" y=\"-334.8\">gini = 0.0175</text>\n",
       "<text font-family=\"Times New Roman,serif\" font-size=\"14.00\" text-anchor=\"middle\" x=\"316.5\" y=\"-319.8\">samples = 226</text>\n",
       "<text font-family=\"Times New Roman,serif\" font-size=\"14.00\" text-anchor=\"middle\" x=\"316.5\" y=\"-304.8\">value = [224, 2]</text>\n",
       "</g>\n",
       "<!-- 3&#45;&gt;4 -->\n",
       "<g class=\"edge\" id=\"edge4\"><title>3-&gt;4</title>\n",
       "<path d=\"M469.8,-400.884C447.385,-390.812 422.598,-379.674 399.608,-369.344\" fill=\"none\" stroke=\"black\"/>\n",
       "<polygon fill=\"black\" points=\"400.775,-366.031 390.219,-365.125 397.906,-372.416 400.775,-366.031\" stroke=\"black\"/>\n",
       "</g>\n",
       "<!-- 13 -->\n",
       "<g class=\"node\" id=\"node14\"><title>13</title>\n",
       "<polygon fill=\"none\" points=\"660,-365 427,-365 427,-297 660,-297 660,-365\" stroke=\"black\"/>\n",
       "<text font-family=\"Times New Roman,serif\" font-size=\"14.00\" text-anchor=\"middle\" x=\"543.5\" y=\"-349.8\">fractal_dimension_sd_error &lt;= 0.2711</text>\n",
       "<text font-family=\"Times New Roman,serif\" font-size=\"14.00\" text-anchor=\"middle\" x=\"543.5\" y=\"-334.8\">gini = 0.4444</text>\n",
       "<text font-family=\"Times New Roman,serif\" font-size=\"14.00\" text-anchor=\"middle\" x=\"543.5\" y=\"-319.8\">samples = 6</text>\n",
       "<text font-family=\"Times New Roman,serif\" font-size=\"14.00\" text-anchor=\"middle\" x=\"543.5\" y=\"-304.8\">value = [4, 2]</text>\n",
       "</g>\n",
       "<!-- 3&#45;&gt;13 -->\n",
       "<g class=\"edge\" id=\"edge13\"><title>3-&gt;13</title>\n",
       "<path d=\"M543.5,-400.884C543.5,-392.778 543.5,-383.982 543.5,-375.472\" fill=\"none\" stroke=\"black\"/>\n",
       "<polygon fill=\"black\" points=\"547,-375.299 543.5,-365.299 540,-375.299 547,-375.299\" stroke=\"black\"/>\n",
       "</g>\n",
       "<!-- 5 -->\n",
       "<g class=\"node\" id=\"node6\"><title>5</title>\n",
       "<polygon fill=\"none\" points=\"217,-261 48,-261 48,-193 217,-193 217,-261\" stroke=\"black\"/>\n",
       "<text font-family=\"Times New Roman,serif\" font-size=\"14.00\" text-anchor=\"middle\" x=\"132.5\" y=\"-245.8\">perimeter_worst &lt;= 0.1759</text>\n",
       "<text font-family=\"Times New Roman,serif\" font-size=\"14.00\" text-anchor=\"middle\" x=\"132.5\" y=\"-230.8\">gini = 0.2449</text>\n",
       "<text font-family=\"Times New Roman,serif\" font-size=\"14.00\" text-anchor=\"middle\" x=\"132.5\" y=\"-215.8\">samples = 7</text>\n",
       "<text font-family=\"Times New Roman,serif\" font-size=\"14.00\" text-anchor=\"middle\" x=\"132.5\" y=\"-200.8\">value = [6, 1]</text>\n",
       "</g>\n",
       "<!-- 4&#45;&gt;5 -->\n",
       "<g class=\"edge\" id=\"edge5\"><title>4-&gt;5</title>\n",
       "<path d=\"M256.76,-296.884C238.995,-287.035 219.393,-276.169 201.11,-266.034\" fill=\"none\" stroke=\"black\"/>\n",
       "<polygon fill=\"black\" points=\"202.697,-262.912 192.254,-261.125 199.304,-269.034 202.697,-262.912\" stroke=\"black\"/>\n",
       "</g>\n",
       "<!-- 8 -->\n",
       "<g class=\"node\" id=\"node9\"><title>8</title>\n",
       "<polygon fill=\"none\" points=\"432,-261 235,-261 235,-193 432,-193 432,-261\" stroke=\"black\"/>\n",
       "<text font-family=\"Times New Roman,serif\" font-size=\"14.00\" text-anchor=\"middle\" x=\"333.5\" y=\"-245.8\">concave_points_mean &lt;= 32.78</text>\n",
       "<text font-family=\"Times New Roman,serif\" font-size=\"14.00\" text-anchor=\"middle\" x=\"333.5\" y=\"-230.8\">gini = 0.0091</text>\n",
       "<text font-family=\"Times New Roman,serif\" font-size=\"14.00\" text-anchor=\"middle\" x=\"333.5\" y=\"-215.8\">samples = 219</text>\n",
       "<text font-family=\"Times New Roman,serif\" font-size=\"14.00\" text-anchor=\"middle\" x=\"333.5\" y=\"-200.8\">value = [218, 1]</text>\n",
       "</g>\n",
       "<!-- 4&#45;&gt;8 -->\n",
       "<g class=\"edge\" id=\"edge8\"><title>4-&gt;8</title>\n",
       "<path d=\"M322.019,-296.884C323.385,-288.689 324.869,-279.789 326.301,-271.192\" fill=\"none\" stroke=\"black\"/>\n",
       "<polygon fill=\"black\" points=\"329.758,-271.739 327.95,-261.299 322.854,-270.588 329.758,-271.739\" stroke=\"black\"/>\n",
       "</g>\n",
       "<!-- 6 -->\n",
       "<g class=\"node\" id=\"node7\"><title>6</title>\n",
       "<polygon fill=\"none\" points=\"91,-149.5 0,-149.5 0,-96.5 91,-96.5 91,-149.5\" stroke=\"black\"/>\n",
       "<text font-family=\"Times New Roman,serif\" font-size=\"14.00\" text-anchor=\"middle\" x=\"45.5\" y=\"-134.3\">gini = 0.0</text>\n",
       "<text font-family=\"Times New Roman,serif\" font-size=\"14.00\" text-anchor=\"middle\" x=\"45.5\" y=\"-119.3\">samples = 6</text>\n",
       "<text font-family=\"Times New Roman,serif\" font-size=\"14.00\" text-anchor=\"middle\" x=\"45.5\" y=\"-104.3\">value = [6, 0]</text>\n",
       "</g>\n",
       "<!-- 5&#45;&gt;6 -->\n",
       "<g class=\"edge\" id=\"edge6\"><title>5-&gt;6</title>\n",
       "<path d=\"M104.254,-192.884C94.4978,-181.446 83.5701,-168.634 73.8093,-157.19\" fill=\"none\" stroke=\"black\"/>\n",
       "<polygon fill=\"black\" points=\"76.4194,-154.857 67.267,-149.52 71.0936,-159.4 76.4194,-154.857\" stroke=\"black\"/>\n",
       "</g>\n",
       "<!-- 7 -->\n",
       "<g class=\"node\" id=\"node8\"><title>7</title>\n",
       "<polygon fill=\"none\" points=\"200,-149.5 109,-149.5 109,-96.5 200,-96.5 200,-149.5\" stroke=\"black\"/>\n",
       "<text font-family=\"Times New Roman,serif\" font-size=\"14.00\" text-anchor=\"middle\" x=\"154.5\" y=\"-134.3\">gini = 0.0</text>\n",
       "<text font-family=\"Times New Roman,serif\" font-size=\"14.00\" text-anchor=\"middle\" x=\"154.5\" y=\"-119.3\">samples = 1</text>\n",
       "<text font-family=\"Times New Roman,serif\" font-size=\"14.00\" text-anchor=\"middle\" x=\"154.5\" y=\"-104.3\">value = [0, 1]</text>\n",
       "</g>\n",
       "<!-- 5&#45;&gt;7 -->\n",
       "<g class=\"edge\" id=\"edge7\"><title>5-&gt;7</title>\n",
       "<path d=\"M139.643,-192.884C141.944,-182.216 144.502,-170.352 146.839,-159.519\" fill=\"none\" stroke=\"black\"/>\n",
       "<polygon fill=\"black\" points=\"150.309,-160.033 148.996,-149.52 143.466,-158.557 150.309,-160.033\" stroke=\"black\"/>\n",
       "</g>\n",
       "<!-- 9 -->\n",
       "<g class=\"node\" id=\"node10\"><title>9</title>\n",
       "<polygon fill=\"none\" points=\"364.5,-149.5 260.5,-149.5 260.5,-96.5 364.5,-96.5 364.5,-149.5\" stroke=\"black\"/>\n",
       "<text font-family=\"Times New Roman,serif\" font-size=\"14.00\" text-anchor=\"middle\" x=\"312.5\" y=\"-134.3\">gini = 0.0</text>\n",
       "<text font-family=\"Times New Roman,serif\" font-size=\"14.00\" text-anchor=\"middle\" x=\"312.5\" y=\"-119.3\">samples = 202</text>\n",
       "<text font-family=\"Times New Roman,serif\" font-size=\"14.00\" text-anchor=\"middle\" x=\"312.5\" y=\"-104.3\">value = [202, 0]</text>\n",
       "</g>\n",
       "<!-- 8&#45;&gt;9 -->\n",
       "<g class=\"edge\" id=\"edge9\"><title>8-&gt;9</title>\n",
       "<path d=\"M326.682,-192.884C324.486,-182.216 322.043,-170.352 319.813,-159.519\" fill=\"none\" stroke=\"black\"/>\n",
       "<polygon fill=\"black\" points=\"323.199,-158.609 317.754,-149.52 316.343,-160.02 323.199,-158.609\" stroke=\"black\"/>\n",
       "</g>\n",
       "<!-- 10 -->\n",
       "<g class=\"node\" id=\"node11\"><title>10</title>\n",
       "<polygon fill=\"none\" points=\"586,-157 383,-157 383,-89 586,-89 586,-157\" stroke=\"black\"/>\n",
       "<text font-family=\"Times New Roman,serif\" font-size=\"14.00\" text-anchor=\"middle\" x=\"484.5\" y=\"-141.8\">concave_points_mean &lt;= 33.805</text>\n",
       "<text font-family=\"Times New Roman,serif\" font-size=\"14.00\" text-anchor=\"middle\" x=\"484.5\" y=\"-126.8\">gini = 0.1107</text>\n",
       "<text font-family=\"Times New Roman,serif\" font-size=\"14.00\" text-anchor=\"middle\" x=\"484.5\" y=\"-111.8\">samples = 17</text>\n",
       "<text font-family=\"Times New Roman,serif\" font-size=\"14.00\" text-anchor=\"middle\" x=\"484.5\" y=\"-96.8\">value = [16, 1]</text>\n",
       "</g>\n",
       "<!-- 8&#45;&gt;10 -->\n",
       "<g class=\"edge\" id=\"edge10\"><title>8-&gt;10</title>\n",
       "<path d=\"M382.525,-192.884C396.707,-183.304 412.315,-172.761 426.965,-162.864\" fill=\"none\" stroke=\"black\"/>\n",
       "<polygon fill=\"black\" points=\"429.135,-165.623 435.462,-157.125 425.217,-159.822 429.135,-165.623\" stroke=\"black\"/>\n",
       "</g>\n",
       "<!-- 11 -->\n",
       "<g class=\"node\" id=\"node12\"><title>11</title>\n",
       "<polygon fill=\"none\" points=\"473,-53 382,-53 382,-0 473,-0 473,-53\" stroke=\"black\"/>\n",
       "<text font-family=\"Times New Roman,serif\" font-size=\"14.00\" text-anchor=\"middle\" x=\"427.5\" y=\"-37.8\">gini = 0.0</text>\n",
       "<text font-family=\"Times New Roman,serif\" font-size=\"14.00\" text-anchor=\"middle\" x=\"427.5\" y=\"-22.8\">samples = 1</text>\n",
       "<text font-family=\"Times New Roman,serif\" font-size=\"14.00\" text-anchor=\"middle\" x=\"427.5\" y=\"-7.8\">value = [0, 1]</text>\n",
       "</g>\n",
       "<!-- 10&#45;&gt;11 -->\n",
       "<g class=\"edge\" id=\"edge11\"><title>10-&gt;11</title>\n",
       "<path d=\"M464.564,-88.9485C459.267,-80.1664 453.535,-70.6629 448.198,-61.815\" fill=\"none\" stroke=\"black\"/>\n",
       "<polygon fill=\"black\" points=\"451.186,-59.9919 443.024,-53.2367 445.192,-63.6074 451.186,-59.9919\" stroke=\"black\"/>\n",
       "</g>\n",
       "<!-- 12 -->\n",
       "<g class=\"node\" id=\"node13\"><title>12</title>\n",
       "<polygon fill=\"none\" points=\"589.5,-53 491.5,-53 491.5,-0 589.5,-0 589.5,-53\" stroke=\"black\"/>\n",
       "<text font-family=\"Times New Roman,serif\" font-size=\"14.00\" text-anchor=\"middle\" x=\"540.5\" y=\"-37.8\">gini = 0.0</text>\n",
       "<text font-family=\"Times New Roman,serif\" font-size=\"14.00\" text-anchor=\"middle\" x=\"540.5\" y=\"-22.8\">samples = 16</text>\n",
       "<text font-family=\"Times New Roman,serif\" font-size=\"14.00\" text-anchor=\"middle\" x=\"540.5\" y=\"-7.8\">value = [16, 0]</text>\n",
       "</g>\n",
       "<!-- 10&#45;&gt;12 -->\n",
       "<g class=\"edge\" id=\"edge12\"><title>10-&gt;12</title>\n",
       "<path d=\"M504.086,-88.9485C509.236,-80.2579 514.805,-70.8608 520.001,-62.0917\" fill=\"none\" stroke=\"black\"/>\n",
       "<polygon fill=\"black\" points=\"523.162,-63.624 525.249,-53.2367 517.14,-60.0553 523.162,-63.624\" stroke=\"black\"/>\n",
       "</g>\n",
       "<!-- 14 -->\n",
       "<g class=\"node\" id=\"node15\"><title>14</title>\n",
       "<polygon fill=\"none\" points=\"573,-253.5 482,-253.5 482,-200.5 573,-200.5 573,-253.5\" stroke=\"black\"/>\n",
       "<text font-family=\"Times New Roman,serif\" font-size=\"14.00\" text-anchor=\"middle\" x=\"527.5\" y=\"-238.3\">gini = 0.0</text>\n",
       "<text font-family=\"Times New Roman,serif\" font-size=\"14.00\" text-anchor=\"middle\" x=\"527.5\" y=\"-223.3\">samples = 2</text>\n",
       "<text font-family=\"Times New Roman,serif\" font-size=\"14.00\" text-anchor=\"middle\" x=\"527.5\" y=\"-208.3\">value = [0, 2]</text>\n",
       "</g>\n",
       "<!-- 13&#45;&gt;14 -->\n",
       "<g class=\"edge\" id=\"edge14\"><title>13-&gt;14</title>\n",
       "<path d=\"M538.305,-296.884C536.632,-286.216 534.771,-274.352 533.072,-263.519\" fill=\"none\" stroke=\"black\"/>\n",
       "<polygon fill=\"black\" points=\"536.511,-262.857 531.503,-253.52 529.595,-263.942 536.511,-262.857\" stroke=\"black\"/>\n",
       "</g>\n",
       "<!-- 15 -->\n",
       "<g class=\"node\" id=\"node16\"><title>15</title>\n",
       "<polygon fill=\"none\" points=\"682,-253.5 591,-253.5 591,-200.5 682,-200.5 682,-253.5\" stroke=\"black\"/>\n",
       "<text font-family=\"Times New Roman,serif\" font-size=\"14.00\" text-anchor=\"middle\" x=\"636.5\" y=\"-238.3\">gini = 0.0</text>\n",
       "<text font-family=\"Times New Roman,serif\" font-size=\"14.00\" text-anchor=\"middle\" x=\"636.5\" y=\"-223.3\">samples = 4</text>\n",
       "<text font-family=\"Times New Roman,serif\" font-size=\"14.00\" text-anchor=\"middle\" x=\"636.5\" y=\"-208.3\">value = [4, 0]</text>\n",
       "</g>\n",
       "<!-- 13&#45;&gt;15 -->\n",
       "<g class=\"edge\" id=\"edge15\"><title>13-&gt;15</title>\n",
       "<path d=\"M573.694,-296.884C584.123,-285.446 595.804,-272.634 606.238,-261.19\" fill=\"none\" stroke=\"black\"/>\n",
       "<polygon fill=\"black\" points=\"609.081,-263.268 613.232,-253.52 603.908,-258.551 609.081,-263.268\" stroke=\"black\"/>\n",
       "</g>\n",
       "<!-- 17 -->\n",
       "<g class=\"node\" id=\"node18\"><title>17</title>\n",
       "<polygon fill=\"none\" points=\"866.5,-365 678.5,-365 678.5,-297 866.5,-297 866.5,-365\" stroke=\"black\"/>\n",
       "<text font-family=\"Times New Roman,serif\" font-size=\"14.00\" text-anchor=\"middle\" x=\"772.5\" y=\"-349.8\">symmetry_sd_error &lt;= 0.0817</text>\n",
       "<text font-family=\"Times New Roman,serif\" font-size=\"14.00\" text-anchor=\"middle\" x=\"772.5\" y=\"-334.8\">gini = 0.32</text>\n",
       "<text font-family=\"Times New Roman,serif\" font-size=\"14.00\" text-anchor=\"middle\" x=\"772.5\" y=\"-319.8\">samples = 15</text>\n",
       "<text font-family=\"Times New Roman,serif\" font-size=\"14.00\" text-anchor=\"middle\" x=\"772.5\" y=\"-304.8\">value = [12, 3]</text>\n",
       "</g>\n",
       "<!-- 16&#45;&gt;17 -->\n",
       "<g class=\"edge\" id=\"edge17\"><title>16-&gt;17</title>\n",
       "<path d=\"M772.5,-400.884C772.5,-392.778 772.5,-383.982 772.5,-375.472\" fill=\"none\" stroke=\"black\"/>\n",
       "<polygon fill=\"black\" points=\"776,-375.299 772.5,-365.299 769,-375.299 776,-375.299\" stroke=\"black\"/>\n",
       "</g>\n",
       "<!-- 22 -->\n",
       "<g class=\"node\" id=\"node23\"><title>22</title>\n",
       "<polygon fill=\"none\" points=\"976,-357.5 885,-357.5 885,-304.5 976,-304.5 976,-357.5\" stroke=\"black\"/>\n",
       "<text font-family=\"Times New Roman,serif\" font-size=\"14.00\" text-anchor=\"middle\" x=\"930.5\" y=\"-342.3\">gini = 0.0</text>\n",
       "<text font-family=\"Times New Roman,serif\" font-size=\"14.00\" text-anchor=\"middle\" x=\"930.5\" y=\"-327.3\">samples = 3</text>\n",
       "<text font-family=\"Times New Roman,serif\" font-size=\"14.00\" text-anchor=\"middle\" x=\"930.5\" y=\"-312.3\">value = [0, 3]</text>\n",
       "</g>\n",
       "<!-- 16&#45;&gt;22 -->\n",
       "<g class=\"edge\" id=\"edge22\"><title>16-&gt;22</title>\n",
       "<path d=\"M823.798,-400.884C842.623,-388.731 863.85,-375.027 882.386,-363.061\" fill=\"none\" stroke=\"black\"/>\n",
       "<polygon fill=\"black\" points=\"884.466,-365.884 890.969,-357.52 880.669,-360.003 884.466,-365.884\" stroke=\"black\"/>\n",
       "</g>\n",
       "<!-- 18 -->\n",
       "<g class=\"node\" id=\"node19\"><title>18</title>\n",
       "<polygon fill=\"none\" points=\"813,-253.5 722,-253.5 722,-200.5 813,-200.5 813,-253.5\" stroke=\"black\"/>\n",
       "<text font-family=\"Times New Roman,serif\" font-size=\"14.00\" text-anchor=\"middle\" x=\"767.5\" y=\"-238.3\">gini = 0.0</text>\n",
       "<text font-family=\"Times New Roman,serif\" font-size=\"14.00\" text-anchor=\"middle\" x=\"767.5\" y=\"-223.3\">samples = 2</text>\n",
       "<text font-family=\"Times New Roman,serif\" font-size=\"14.00\" text-anchor=\"middle\" x=\"767.5\" y=\"-208.3\">value = [0, 2]</text>\n",
       "</g>\n",
       "<!-- 17&#45;&gt;18 -->\n",
       "<g class=\"edge\" id=\"edge18\"><title>17-&gt;18</title>\n",
       "<path d=\"M770.877,-296.884C770.354,-286.216 769.772,-274.352 769.241,-263.519\" fill=\"none\" stroke=\"black\"/>\n",
       "<polygon fill=\"black\" points=\"772.736,-263.337 768.751,-253.52 765.745,-263.679 772.736,-263.337\" stroke=\"black\"/>\n",
       "</g>\n",
       "<!-- 19 -->\n",
       "<g class=\"node\" id=\"node20\"><title>19</title>\n",
       "<polygon fill=\"none\" points=\"980,-261 831,-261 831,-193 980,-193 980,-261\" stroke=\"black\"/>\n",
       "<text font-family=\"Times New Roman,serif\" font-size=\"14.00\" text-anchor=\"middle\" x=\"905.5\" y=\"-245.8\">radius_mean &lt;= 15.475</text>\n",
       "<text font-family=\"Times New Roman,serif\" font-size=\"14.00\" text-anchor=\"middle\" x=\"905.5\" y=\"-230.8\">gini = 0.142</text>\n",
       "<text font-family=\"Times New Roman,serif\" font-size=\"14.00\" text-anchor=\"middle\" x=\"905.5\" y=\"-215.8\">samples = 13</text>\n",
       "<text font-family=\"Times New Roman,serif\" font-size=\"14.00\" text-anchor=\"middle\" x=\"905.5\" y=\"-200.8\">value = [12, 1]</text>\n",
       "</g>\n",
       "<!-- 17&#45;&gt;19 -->\n",
       "<g class=\"edge\" id=\"edge19\"><title>17-&gt;19</title>\n",
       "<path d=\"M815.681,-296.884C827.877,-287.531 841.27,-277.259 853.906,-267.568\" fill=\"none\" stroke=\"black\"/>\n",
       "<polygon fill=\"black\" points=\"856.275,-270.162 862.08,-261.299 852.015,-264.608 856.275,-270.162\" stroke=\"black\"/>\n",
       "</g>\n",
       "<!-- 20 -->\n",
       "<g class=\"node\" id=\"node21\"><title>20</title>\n",
       "<polygon fill=\"none\" points=\"897.5,-149.5 799.5,-149.5 799.5,-96.5 897.5,-96.5 897.5,-149.5\" stroke=\"black\"/>\n",
       "<text font-family=\"Times New Roman,serif\" font-size=\"14.00\" text-anchor=\"middle\" x=\"848.5\" y=\"-134.3\">gini = 0.0</text>\n",
       "<text font-family=\"Times New Roman,serif\" font-size=\"14.00\" text-anchor=\"middle\" x=\"848.5\" y=\"-119.3\">samples = 12</text>\n",
       "<text font-family=\"Times New Roman,serif\" font-size=\"14.00\" text-anchor=\"middle\" x=\"848.5\" y=\"-104.3\">value = [12, 0]</text>\n",
       "</g>\n",
       "<!-- 19&#45;&gt;20 -->\n",
       "<g class=\"edge\" id=\"edge20\"><title>19-&gt;20</title>\n",
       "<path d=\"M886.994,-192.884C880.848,-181.886 873.992,-169.617 867.789,-158.517\" fill=\"none\" stroke=\"black\"/>\n",
       "<polygon fill=\"black\" points=\"870.695,-156.542 862.761,-149.52 864.584,-159.957 870.695,-156.542\" stroke=\"black\"/>\n",
       "</g>\n",
       "<!-- 21 -->\n",
       "<g class=\"node\" id=\"node22\"><title>21</title>\n",
       "<polygon fill=\"none\" points=\"1007,-149.5 916,-149.5 916,-96.5 1007,-96.5 1007,-149.5\" stroke=\"black\"/>\n",
       "<text font-family=\"Times New Roman,serif\" font-size=\"14.00\" text-anchor=\"middle\" x=\"961.5\" y=\"-134.3\">gini = 0.0</text>\n",
       "<text font-family=\"Times New Roman,serif\" font-size=\"14.00\" text-anchor=\"middle\" x=\"961.5\" y=\"-119.3\">samples = 1</text>\n",
       "<text font-family=\"Times New Roman,serif\" font-size=\"14.00\" text-anchor=\"middle\" x=\"961.5\" y=\"-104.3\">value = [0, 1]</text>\n",
       "</g>\n",
       "<!-- 19&#45;&gt;21 -->\n",
       "<g class=\"edge\" id=\"edge21\"><title>19-&gt;21</title>\n",
       "<path d=\"M923.682,-192.884C929.72,-181.886 936.455,-169.617 942.55,-158.517\" fill=\"none\" stroke=\"black\"/>\n",
       "<polygon fill=\"black\" points=\"945.744,-159.97 947.489,-149.52 939.608,-156.601 945.744,-159.97\" stroke=\"black\"/>\n",
       "</g>\n",
       "<!-- 24 -->\n",
       "<g class=\"node\" id=\"node25\"><title>24</title>\n",
       "<polygon fill=\"none\" points=\"993,-461.5 902,-461.5 902,-408.5 993,-408.5 993,-461.5\" stroke=\"black\"/>\n",
       "<text font-family=\"Times New Roman,serif\" font-size=\"14.00\" text-anchor=\"middle\" x=\"947.5\" y=\"-446.3\">gini = 0.0</text>\n",
       "<text font-family=\"Times New Roman,serif\" font-size=\"14.00\" text-anchor=\"middle\" x=\"947.5\" y=\"-431.3\">samples = 2</text>\n",
       "<text font-family=\"Times New Roman,serif\" font-size=\"14.00\" text-anchor=\"middle\" x=\"947.5\" y=\"-416.3\">value = [2, 0]</text>\n",
       "</g>\n",
       "<!-- 23&#45;&gt;24 -->\n",
       "<g class=\"edge\" id=\"edge24\"><title>23-&gt;24</title>\n",
       "<path d=\"M955.604,-504.884C954.349,-494.216 952.953,-482.352 951.679,-471.519\" fill=\"none\" stroke=\"black\"/>\n",
       "<polygon fill=\"black\" points=\"955.147,-471.042 950.502,-461.52 948.195,-471.86 955.147,-471.042\" stroke=\"black\"/>\n",
       "</g>\n",
       "<!-- 25 -->\n",
       "<g class=\"node\" id=\"node26\"><title>25</title>\n",
       "<polygon fill=\"none\" points=\"1109.5,-461.5 1011.5,-461.5 1011.5,-408.5 1109.5,-408.5 1109.5,-461.5\" stroke=\"black\"/>\n",
       "<text font-family=\"Times New Roman,serif\" font-size=\"14.00\" text-anchor=\"middle\" x=\"1060.5\" y=\"-446.3\">gini = 0.0</text>\n",
       "<text font-family=\"Times New Roman,serif\" font-size=\"14.00\" text-anchor=\"middle\" x=\"1060.5\" y=\"-431.3\">samples = 11</text>\n",
       "<text font-family=\"Times New Roman,serif\" font-size=\"14.00\" text-anchor=\"middle\" x=\"1060.5\" y=\"-416.3\">value = [0, 11]</text>\n",
       "</g>\n",
       "<!-- 23&#45;&gt;25 -->\n",
       "<g class=\"edge\" id=\"edge25\"><title>23-&gt;25</title>\n",
       "<path d=\"M992.292,-504.884C1003.73,-493.336 1016.55,-480.387 1027.96,-468.86\" fill=\"none\" stroke=\"black\"/>\n",
       "<polygon fill=\"black\" points=\"1030.68,-471.088 1035.23,-461.52 1025.71,-466.163 1030.68,-471.088\" stroke=\"black\"/>\n",
       "</g>\n",
       "<!-- 27 -->\n",
       "<g class=\"node\" id=\"node28\"><title>27</title>\n",
       "<polygon fill=\"none\" points=\"1179,-565.5 1088,-565.5 1088,-512.5 1179,-512.5 1179,-565.5\" stroke=\"black\"/>\n",
       "<text font-family=\"Times New Roman,serif\" font-size=\"14.00\" text-anchor=\"middle\" x=\"1133.5\" y=\"-550.3\">gini = 0.0</text>\n",
       "<text font-family=\"Times New Roman,serif\" font-size=\"14.00\" text-anchor=\"middle\" x=\"1133.5\" y=\"-535.3\">samples = 3</text>\n",
       "<text font-family=\"Times New Roman,serif\" font-size=\"14.00\" text-anchor=\"middle\" x=\"1133.5\" y=\"-520.3\">value = [3, 0]</text>\n",
       "</g>\n",
       "<!-- 26&#45;&gt;27 -->\n",
       "<g class=\"edge\" id=\"edge27\"><title>26-&gt;27</title>\n",
       "<path d=\"M1142.28,-608.884C1140.92,-598.216 1139.41,-586.352 1138.03,-575.519\" fill=\"none\" stroke=\"black\"/>\n",
       "<polygon fill=\"black\" points=\"1141.49,-574.997 1136.75,-565.52 1134.54,-575.882 1141.49,-574.997\" stroke=\"black\"/>\n",
       "</g>\n",
       "<!-- 28 -->\n",
       "<g class=\"node\" id=\"node29\"><title>28</title>\n",
       "<polygon fill=\"none\" points=\"1388,-573 1197,-573 1197,-505 1388,-505 1388,-573\" stroke=\"black\"/>\n",
       "<text font-family=\"Times New Roman,serif\" font-size=\"14.00\" text-anchor=\"middle\" x=\"1292.5\" y=\"-557.8\">compactness_worst &lt;= 0.0415</text>\n",
       "<text font-family=\"Times New Roman,serif\" font-size=\"14.00\" text-anchor=\"middle\" x=\"1292.5\" y=\"-542.8\">gini = 0.0588</text>\n",
       "<text font-family=\"Times New Roman,serif\" font-size=\"14.00\" text-anchor=\"middle\" x=\"1292.5\" y=\"-527.8\">samples = 132</text>\n",
       "<text font-family=\"Times New Roman,serif\" font-size=\"14.00\" text-anchor=\"middle\" x=\"1292.5\" y=\"-512.8\">value = [4, 128]</text>\n",
       "</g>\n",
       "<!-- 26&#45;&gt;28 -->\n",
       "<g class=\"edge\" id=\"edge28\"><title>26-&gt;28</title>\n",
       "<path d=\"M1193.9,-608.884C1207.42,-599.442 1222.27,-589.064 1236.26,-579.292\" fill=\"none\" stroke=\"black\"/>\n",
       "<polygon fill=\"black\" points=\"1238.64,-581.896 1244.84,-573.299 1234.63,-576.157 1238.64,-581.896\" stroke=\"black\"/>\n",
       "</g>\n",
       "<!-- 29 -->\n",
       "<g class=\"node\" id=\"node30\"><title>29</title>\n",
       "<polygon fill=\"none\" points=\"1345.5,-469 1173.5,-469 1173.5,-401 1345.5,-401 1345.5,-469\" stroke=\"black\"/>\n",
       "<text font-family=\"Times New Roman,serif\" font-size=\"14.00\" text-anchor=\"middle\" x=\"1259.5\" y=\"-453.8\">symmetry_worst &lt;= 0.2034</text>\n",
       "<text font-family=\"Times New Roman,serif\" font-size=\"14.00\" text-anchor=\"middle\" x=\"1259.5\" y=\"-438.8\">gini = 0.0448</text>\n",
       "<text font-family=\"Times New Roman,serif\" font-size=\"14.00\" text-anchor=\"middle\" x=\"1259.5\" y=\"-423.8\">samples = 131</text>\n",
       "<text font-family=\"Times New Roman,serif\" font-size=\"14.00\" text-anchor=\"middle\" x=\"1259.5\" y=\"-408.8\">value = [3, 128]</text>\n",
       "</g>\n",
       "<!-- 28&#45;&gt;29 -->\n",
       "<g class=\"edge\" id=\"edge29\"><title>28-&gt;29</title>\n",
       "<path d=\"M1281.79,-504.884C1279.11,-496.6 1276.19,-487.595 1273.38,-478.911\" fill=\"none\" stroke=\"black\"/>\n",
       "<polygon fill=\"black\" points=\"1276.68,-477.736 1270.27,-469.299 1270.02,-479.891 1276.68,-477.736\" stroke=\"black\"/>\n",
       "</g>\n",
       "<!-- 36 -->\n",
       "<g class=\"node\" id=\"node37\"><title>36</title>\n",
       "<polygon fill=\"none\" points=\"1455,-461.5 1364,-461.5 1364,-408.5 1455,-408.5 1455,-461.5\" stroke=\"black\"/>\n",
       "<text font-family=\"Times New Roman,serif\" font-size=\"14.00\" text-anchor=\"middle\" x=\"1409.5\" y=\"-446.3\">gini = 0.0</text>\n",
       "<text font-family=\"Times New Roman,serif\" font-size=\"14.00\" text-anchor=\"middle\" x=\"1409.5\" y=\"-431.3\">samples = 1</text>\n",
       "<text font-family=\"Times New Roman,serif\" font-size=\"14.00\" text-anchor=\"middle\" x=\"1409.5\" y=\"-416.3\">value = [1, 0]</text>\n",
       "</g>\n",
       "<!-- 28&#45;&gt;36 -->\n",
       "<g class=\"edge\" id=\"edge36\"><title>28-&gt;36</title>\n",
       "<path d=\"M1330.49,-504.884C1343.98,-493.116 1359.15,-479.894 1372.56,-468.203\" fill=\"none\" stroke=\"black\"/>\n",
       "<polygon fill=\"black\" points=\"1374.99,-470.73 1380.23,-461.52 1370.39,-465.453 1374.99,-470.73\" stroke=\"black\"/>\n",
       "</g>\n",
       "<!-- 30 -->\n",
       "<g class=\"node\" id=\"node31\"><title>30</title>\n",
       "<polygon fill=\"none\" points=\"1234,-357.5 1143,-357.5 1143,-304.5 1234,-304.5 1234,-357.5\" stroke=\"black\"/>\n",
       "<text font-family=\"Times New Roman,serif\" font-size=\"14.00\" text-anchor=\"middle\" x=\"1188.5\" y=\"-342.3\">gini = 0.0</text>\n",
       "<text font-family=\"Times New Roman,serif\" font-size=\"14.00\" text-anchor=\"middle\" x=\"1188.5\" y=\"-327.3\">samples = 1</text>\n",
       "<text font-family=\"Times New Roman,serif\" font-size=\"14.00\" text-anchor=\"middle\" x=\"1188.5\" y=\"-312.3\">value = [1, 0]</text>\n",
       "</g>\n",
       "<!-- 29&#45;&gt;30 -->\n",
       "<g class=\"edge\" id=\"edge30\"><title>29-&gt;30</title>\n",
       "<path d=\"M1236.45,-400.884C1228.64,-389.666 1219.91,-377.126 1212.06,-365.852\" fill=\"none\" stroke=\"black\"/>\n",
       "<polygon fill=\"black\" points=\"1214.85,-363.728 1206.26,-357.52 1209.1,-367.727 1214.85,-363.728\" stroke=\"black\"/>\n",
       "</g>\n",
       "<!-- 31 -->\n",
       "<g class=\"node\" id=\"node32\"><title>31</title>\n",
       "<polygon fill=\"none\" points=\"1408.5,-365 1252.5,-365 1252.5,-297 1408.5,-297 1408.5,-365\" stroke=\"black\"/>\n",
       "<text font-family=\"Times New Roman,serif\" font-size=\"14.00\" text-anchor=\"middle\" x=\"1330.5\" y=\"-349.8\">area_sd_error &lt;= 0.2413</text>\n",
       "<text font-family=\"Times New Roman,serif\" font-size=\"14.00\" text-anchor=\"middle\" x=\"1330.5\" y=\"-334.8\">gini = 0.0303</text>\n",
       "<text font-family=\"Times New Roman,serif\" font-size=\"14.00\" text-anchor=\"middle\" x=\"1330.5\" y=\"-319.8\">samples = 130</text>\n",
       "<text font-family=\"Times New Roman,serif\" font-size=\"14.00\" text-anchor=\"middle\" x=\"1330.5\" y=\"-304.8\">value = [2, 128]</text>\n",
       "</g>\n",
       "<!-- 29&#45;&gt;31 -->\n",
       "<g class=\"edge\" id=\"edge31\"><title>29-&gt;31</title>\n",
       "<path d=\"M1282.55,-400.884C1288.63,-392.154 1295.26,-382.625 1301.6,-373.514\" fill=\"none\" stroke=\"black\"/>\n",
       "<polygon fill=\"black\" points=\"1304.48,-375.506 1307.32,-365.299 1298.74,-371.507 1304.48,-375.506\" stroke=\"black\"/>\n",
       "</g>\n",
       "<!-- 32 -->\n",
       "<g class=\"node\" id=\"node33\"><title>32</title>\n",
       "<polygon fill=\"none\" points=\"1338.5,-261 1166.5,-261 1166.5,-193 1338.5,-193 1338.5,-261\" stroke=\"black\"/>\n",
       "<text font-family=\"Times New Roman,serif\" font-size=\"14.00\" text-anchor=\"middle\" x=\"1252.5\" y=\"-245.8\">symmetry_worst &lt;= 0.3583</text>\n",
       "<text font-family=\"Times New Roman,serif\" font-size=\"14.00\" text-anchor=\"middle\" x=\"1252.5\" y=\"-230.8\">gini = 0.375</text>\n",
       "<text font-family=\"Times New Roman,serif\" font-size=\"14.00\" text-anchor=\"middle\" x=\"1252.5\" y=\"-215.8\">samples = 8</text>\n",
       "<text font-family=\"Times New Roman,serif\" font-size=\"14.00\" text-anchor=\"middle\" x=\"1252.5\" y=\"-200.8\">value = [2, 6]</text>\n",
       "</g>\n",
       "<!-- 31&#45;&gt;32 -->\n",
       "<g class=\"edge\" id=\"edge32\"><title>31-&gt;32</title>\n",
       "<path d=\"M1305.18,-296.884C1298.5,-288.154 1291.21,-278.625 1284.25,-269.514\" fill=\"none\" stroke=\"black\"/>\n",
       "<polygon fill=\"black\" points=\"1286.82,-267.117 1277.96,-261.299 1281.26,-271.369 1286.82,-267.117\" stroke=\"black\"/>\n",
       "</g>\n",
       "<!-- 35 -->\n",
       "<g class=\"node\" id=\"node36\"><title>35</title>\n",
       "<polygon fill=\"none\" points=\"1460.5,-253.5 1356.5,-253.5 1356.5,-200.5 1460.5,-200.5 1460.5,-253.5\" stroke=\"black\"/>\n",
       "<text font-family=\"Times New Roman,serif\" font-size=\"14.00\" text-anchor=\"middle\" x=\"1408.5\" y=\"-238.3\">gini = 0.0</text>\n",
       "<text font-family=\"Times New Roman,serif\" font-size=\"14.00\" text-anchor=\"middle\" x=\"1408.5\" y=\"-223.3\">samples = 122</text>\n",
       "<text font-family=\"Times New Roman,serif\" font-size=\"14.00\" text-anchor=\"middle\" x=\"1408.5\" y=\"-208.3\">value = [0, 122]</text>\n",
       "</g>\n",
       "<!-- 31&#45;&gt;35 -->\n",
       "<g class=\"edge\" id=\"edge35\"><title>31-&gt;35</title>\n",
       "<path d=\"M1355.82,-296.884C1364.49,-285.556 1374.18,-272.88 1382.87,-261.521\" fill=\"none\" stroke=\"black\"/>\n",
       "<polygon fill=\"black\" points=\"1385.69,-263.59 1388.98,-253.52 1380.13,-259.337 1385.69,-263.59\" stroke=\"black\"/>\n",
       "</g>\n",
       "<!-- 33 -->\n",
       "<g class=\"node\" id=\"node34\"><title>33</title>\n",
       "<polygon fill=\"none\" points=\"1243,-149.5 1152,-149.5 1152,-96.5 1243,-96.5 1243,-149.5\" stroke=\"black\"/>\n",
       "<text font-family=\"Times New Roman,serif\" font-size=\"14.00\" text-anchor=\"middle\" x=\"1197.5\" y=\"-134.3\">gini = 0.0</text>\n",
       "<text font-family=\"Times New Roman,serif\" font-size=\"14.00\" text-anchor=\"middle\" x=\"1197.5\" y=\"-119.3\">samples = 2</text>\n",
       "<text font-family=\"Times New Roman,serif\" font-size=\"14.00\" text-anchor=\"middle\" x=\"1197.5\" y=\"-104.3\">value = [2, 0]</text>\n",
       "</g>\n",
       "<!-- 32&#45;&gt;33 -->\n",
       "<g class=\"edge\" id=\"edge33\"><title>32-&gt;33</title>\n",
       "<path d=\"M1234.64,-192.884C1228.71,-181.886 1222.1,-169.617 1216.11,-158.517\" fill=\"none\" stroke=\"black\"/>\n",
       "<polygon fill=\"black\" points=\"1219.09,-156.661 1211.26,-149.52 1212.93,-159.983 1219.09,-156.661\" stroke=\"black\"/>\n",
       "</g>\n",
       "<!-- 34 -->\n",
       "<g class=\"node\" id=\"node35\"><title>34</title>\n",
       "<polygon fill=\"none\" points=\"1352,-149.5 1261,-149.5 1261,-96.5 1352,-96.5 1352,-149.5\" stroke=\"black\"/>\n",
       "<text font-family=\"Times New Roman,serif\" font-size=\"14.00\" text-anchor=\"middle\" x=\"1306.5\" y=\"-134.3\">gini = 0.0</text>\n",
       "<text font-family=\"Times New Roman,serif\" font-size=\"14.00\" text-anchor=\"middle\" x=\"1306.5\" y=\"-119.3\">samples = 6</text>\n",
       "<text font-family=\"Times New Roman,serif\" font-size=\"14.00\" text-anchor=\"middle\" x=\"1306.5\" y=\"-104.3\">value = [0, 6]</text>\n",
       "</g>\n",
       "<!-- 32&#45;&gt;34 -->\n",
       "<g class=\"edge\" id=\"edge34\"><title>32-&gt;34</title>\n",
       "<path d=\"M1270.03,-192.884C1275.85,-181.886 1282.35,-169.617 1288.23,-158.517\" fill=\"none\" stroke=\"black\"/>\n",
       "<polygon fill=\"black\" points=\"1291.4,-159.995 1292.99,-149.52 1285.22,-156.72 1291.4,-159.995\" stroke=\"black\"/>\n",
       "</g>\n",
       "</g>\n",
       "</svg>"
      ],
      "text/plain": [
       "<IPython.core.display.SVG object>"
      ]
     },
     "execution_count": 30,
     "metadata": {},
     "output_type": "execute_result"
    }
   ],
   "source": [
    "#charting the tree (based on gini impurity) to view the splits at root node, leaf nodes and the branches\n",
    "graph = graphviz.Source( tree.export_graphviz(model_dtree, out_file=None, feature_names=x_train.columns))\n",
    "SVG(graph.pipe(format='svg'))"
   ]
  },
  {
   "cell_type": "markdown",
   "metadata": {},
   "source": [
    "The above plot indicates that fractal dimension mean is root node. This mean that it is an important variable for the classifier. Since, We are not controlling the length of the tree it has grown many leaf nodes and found a perfect split for both the classes for the given train data. "
   ]
  },
  {
   "cell_type": "code",
   "execution_count": 31,
   "metadata": {},
   "outputs": [
    {
     "data": {
      "text/html": [
       "<div>\n",
       "<style>\n",
       "    .dataframe thead tr:only-child th {\n",
       "        text-align: right;\n",
       "    }\n",
       "\n",
       "    .dataframe thead th {\n",
       "        text-align: left;\n",
       "    }\n",
       "\n",
       "    .dataframe tbody tr th {\n",
       "        vertical-align: top;\n",
       "    }\n",
       "</style>\n",
       "<table border=\"1\" class=\"dataframe\">\n",
       "  <thead>\n",
       "    <tr style=\"text-align: right;\">\n",
       "      <th></th>\n",
       "      <th>Var_imp</th>\n",
       "    </tr>\n",
       "  </thead>\n",
       "  <tbody>\n",
       "    <tr>\n",
       "      <th>fractal_dimension_mean</th>\n",
       "      <td>0.728114</td>\n",
       "    </tr>\n",
       "    <tr>\n",
       "      <th>concavity_worst</th>\n",
       "      <td>0.086151</td>\n",
       "    </tr>\n",
       "    <tr>\n",
       "      <th>smoothness_sd_error</th>\n",
       "      <td>0.047493</td>\n",
       "    </tr>\n",
       "    <tr>\n",
       "      <th>symmetry_worst</th>\n",
       "      <td>0.043576</td>\n",
       "    </tr>\n",
       "    <tr>\n",
       "      <th>perimeter_worst</th>\n",
       "      <td>0.027349</td>\n",
       "    </tr>\n",
       "    <tr>\n",
       "      <th>symmetry_sd_error</th>\n",
       "      <td>0.015844</td>\n",
       "    </tr>\n",
       "    <tr>\n",
       "      <th>fractal_dimension_sd_error</th>\n",
       "      <td>0.014303</td>\n",
       "    </tr>\n",
       "    <tr>\n",
       "      <th>concave_points_mean</th>\n",
       "      <td>0.010678</td>\n",
       "    </tr>\n",
       "    <tr>\n",
       "      <th>compactness_worst</th>\n",
       "      <td>0.010164</td>\n",
       "    </tr>\n",
       "    <tr>\n",
       "      <th>radius_mean</th>\n",
       "      <td>0.009902</td>\n",
       "    </tr>\n",
       "    <tr>\n",
       "      <th>area_sd_error</th>\n",
       "      <td>0.005034</td>\n",
       "    </tr>\n",
       "    <tr>\n",
       "      <th>smoothness_worst</th>\n",
       "      <td>0.001392</td>\n",
       "    </tr>\n",
       "    <tr>\n",
       "      <th>concave_points_sd_error</th>\n",
       "      <td>0.000000</td>\n",
       "    </tr>\n",
       "    <tr>\n",
       "      <th>concave_points_worst</th>\n",
       "      <td>0.000000</td>\n",
       "    </tr>\n",
       "    <tr>\n",
       "      <th>symmetry_mean</th>\n",
       "      <td>0.000000</td>\n",
       "    </tr>\n",
       "    <tr>\n",
       "      <th>concavity_sd_error</th>\n",
       "      <td>0.000000</td>\n",
       "    </tr>\n",
       "    <tr>\n",
       "      <th>concavity_mean</th>\n",
       "      <td>0.000000</td>\n",
       "    </tr>\n",
       "    <tr>\n",
       "      <th>compactness_mean</th>\n",
       "      <td>0.000000</td>\n",
       "    </tr>\n",
       "    <tr>\n",
       "      <th>compactness_sd_error</th>\n",
       "      <td>0.000000</td>\n",
       "    </tr>\n",
       "    <tr>\n",
       "      <th>radius_sd_error</th>\n",
       "      <td>0.000000</td>\n",
       "    </tr>\n",
       "    <tr>\n",
       "      <th>smoothness_mean</th>\n",
       "      <td>0.000000</td>\n",
       "    </tr>\n",
       "    <tr>\n",
       "      <th>area_worst</th>\n",
       "      <td>0.000000</td>\n",
       "    </tr>\n",
       "    <tr>\n",
       "      <th>area_mean</th>\n",
       "      <td>0.000000</td>\n",
       "    </tr>\n",
       "    <tr>\n",
       "      <th>perimeter_sd_error</th>\n",
       "      <td>0.000000</td>\n",
       "    </tr>\n",
       "    <tr>\n",
       "      <th>perimeter_mean</th>\n",
       "      <td>0.000000</td>\n",
       "    </tr>\n",
       "    <tr>\n",
       "      <th>texture_worst</th>\n",
       "      <td>0.000000</td>\n",
       "    </tr>\n",
       "    <tr>\n",
       "      <th>texture_sd_error</th>\n",
       "      <td>0.000000</td>\n",
       "    </tr>\n",
       "    <tr>\n",
       "      <th>texture_mean</th>\n",
       "      <td>0.000000</td>\n",
       "    </tr>\n",
       "    <tr>\n",
       "      <th>radius_worst</th>\n",
       "      <td>0.000000</td>\n",
       "    </tr>\n",
       "    <tr>\n",
       "      <th>fractal_dimension_worst</th>\n",
       "      <td>0.000000</td>\n",
       "    </tr>\n",
       "  </tbody>\n",
       "</table>\n",
       "</div>"
      ],
      "text/plain": [
       "                             Var_imp\n",
       "fractal_dimension_mean      0.728114\n",
       "concavity_worst             0.086151\n",
       "smoothness_sd_error         0.047493\n",
       "symmetry_worst              0.043576\n",
       "perimeter_worst             0.027349\n",
       "symmetry_sd_error           0.015844\n",
       "fractal_dimension_sd_error  0.014303\n",
       "concave_points_mean         0.010678\n",
       "compactness_worst           0.010164\n",
       "radius_mean                 0.009902\n",
       "area_sd_error               0.005034\n",
       "smoothness_worst            0.001392\n",
       "concave_points_sd_error     0.000000\n",
       "concave_points_worst        0.000000\n",
       "symmetry_mean               0.000000\n",
       "concavity_sd_error          0.000000\n",
       "concavity_mean              0.000000\n",
       "compactness_mean            0.000000\n",
       "compactness_sd_error        0.000000\n",
       "radius_sd_error             0.000000\n",
       "smoothness_mean             0.000000\n",
       "area_worst                  0.000000\n",
       "area_mean                   0.000000\n",
       "perimeter_sd_error          0.000000\n",
       "perimeter_mean              0.000000\n",
       "texture_worst               0.000000\n",
       "texture_sd_error            0.000000\n",
       "texture_mean                0.000000\n",
       "radius_worst                0.000000\n",
       "fractal_dimension_worst     0.000000"
      ]
     },
     "execution_count": 31,
     "metadata": {},
     "output_type": "execute_result"
    }
   ],
   "source": [
    "#looking at the important variables based on above splititng\n",
    "Var_imp = pd.DataFrame(model_dtree.feature_importances_, index=x_train.columns, \n",
    "                          columns=[\"Var_imp\"])\n",
    "Var_imp.sort_values(['Var_imp'],ascending= False)"
   ]
  },
  {
   "cell_type": "code",
   "execution_count": 32,
   "metadata": {},
   "outputs": [
    {
     "data": {
      "text/plain": [
       "([<matplotlib.axis.XTick at 0x270f5361208>,\n",
       "  <matplotlib.axis.XTick at 0x270f536ceb8>,\n",
       "  <matplotlib.axis.XTick at 0x270f535d6a0>,\n",
       "  <matplotlib.axis.XTick at 0x270f5406400>,\n",
       "  <matplotlib.axis.XTick at 0x270f5406f60>,\n",
       "  <matplotlib.axis.XTick at 0x270f540bb00>,\n",
       "  <matplotlib.axis.XTick at 0x270f540e6a0>,\n",
       "  <matplotlib.axis.XTick at 0x270f5412240>,\n",
       "  <matplotlib.axis.XTick at 0x270f5412da0>,\n",
       "  <matplotlib.axis.XTick at 0x270f5416940>,\n",
       "  <matplotlib.axis.XTick at 0x270f541a4e0>,\n",
       "  <matplotlib.axis.XTick at 0x270f541e080>,\n",
       "  <matplotlib.axis.XTick at 0x270f541ebe0>,\n",
       "  <matplotlib.axis.XTick at 0x270f5422780>,\n",
       "  <matplotlib.axis.XTick at 0x270f5426320>,\n",
       "  <matplotlib.axis.XTick at 0x270f5426e80>,\n",
       "  <matplotlib.axis.XTick at 0x270f542aa20>,\n",
       "  <matplotlib.axis.XTick at 0x270f54305c0>,\n",
       "  <matplotlib.axis.XTick at 0x270f5433160>,\n",
       "  <matplotlib.axis.XTick at 0x270f5433cc0>,\n",
       "  <matplotlib.axis.XTick at 0x270f5437860>,\n",
       "  <matplotlib.axis.XTick at 0x270f543b400>,\n",
       "  <matplotlib.axis.XTick at 0x270f543bf60>,\n",
       "  <matplotlib.axis.XTick at 0x270f5440b00>,\n",
       "  <matplotlib.axis.XTick at 0x270f54436a0>,\n",
       "  <matplotlib.axis.XTick at 0x270f544a240>,\n",
       "  <matplotlib.axis.XTick at 0x270f544ada0>,\n",
       "  <matplotlib.axis.XTick at 0x270f544e940>,\n",
       "  <matplotlib.axis.XTick at 0x270f54534e0>,\n",
       "  <matplotlib.axis.XTick at 0x270f5457080>],\n",
       " <a list of 30 Text xticklabel objects>)"
      ]
     },
     "execution_count": 32,
     "metadata": {},
     "output_type": "execute_result"
    },
    {
     "data": {
      "image/png": "[encoded data removed]",
      "text/plain": [
       "<matplotlib.figure.Figure at 0x270f5348390>"
      ]
     },
     "metadata": {},
     "output_type": "display_data"
    }
   ],
   "source": [
    "#impoortant features/variables\n",
    "plt.bar(range(len(model_dtree.feature_importances_)),model_dtree.feature_importances_)\n",
    "ticks = np.arange(0,len(Var_imp))\n",
    "plt.xticks(ticks,Var_imp.index.values,rotation='vertical')"
   ]
  },
  {
   "cell_type": "markdown",
   "metadata": {
    "collapsed": true
   },
   "source": [
    "The above variable important plot indicates that fractal dimension mean is the most important feature for splitting the data followed by concavity worst,smoothness mean, symmetry worst,smoothness sd error, permiter worst. etc\n",
    "The rest of the eighteen features(out of the total 30 features) are not at all used by this classifier in the splitting criteria.\n"
   ]
  },
  {
   "cell_type": "code",
   "execution_count": 33,
   "metadata": {},
   "outputs": [
    {
     "name": "stdout",
     "output_type": "stream",
     "text": [
      "['M' 'B' 'B' 'B' 'B' 'B' 'B' 'B' 'B' 'B' 'M' 'B' 'B' 'M' 'B' 'M' 'B' 'M'\n",
      " 'M' 'M' 'M' 'M' 'B' 'B' 'M' 'B' 'B' 'M' 'B' 'M' 'B' 'M' 'B' 'M' 'B' 'M'\n",
      " 'B' 'M' 'B' 'M' 'B' 'B' 'M' 'B' 'B' 'M' 'B' 'B' 'B' 'M' 'M' 'M' 'M' 'B'\n",
      " 'B' 'B' 'M' 'B' 'M' 'M' 'M' 'M' 'B' 'B' 'M' 'B' 'M' 'M' 'M' 'B' 'B' 'M'\n",
      " 'B' 'B' 'M' 'B' 'B' 'B' 'B' 'B' 'M' 'M' 'M' 'B' 'M' 'B' 'B' 'B' 'M' 'M'\n",
      " 'B' 'M' 'B' 'M' 'B' 'B' 'M' 'M' 'B' 'B' 'B' 'B' 'B' 'M' 'M' 'B' 'M' 'B'\n",
      " 'M' 'B' 'B' 'M' 'M' 'B' 'B' 'B' 'M' 'B' 'B' 'B' 'B' 'B' 'M' 'B' 'M' 'M'\n",
      " 'B' 'B' 'B' 'B' 'M' 'B' 'B' 'B' 'B' 'B' 'B' 'M' 'M' 'B' 'B' 'B' 'M' 'B'\n",
      " 'B' 'M' 'B' 'M' 'B' 'B' 'B' 'M' 'M' 'B' 'B' 'M' 'B' 'B' 'B' 'M' 'M' 'B'\n",
      " 'M' 'M' 'B' 'M' 'M' 'M' 'B' 'B' 'B']\n"
     ]
    }
   ],
   "source": [
    "#predicting on test data \n",
    "y_predicted_dtree =model_dtree.predict(x_test)\n",
    "y_prob_predicted_dtree = model_dtree.predict_proba(x_test)\n",
    "print(y_predicted_dtree)\n",
    "#print(y_prob_predicted_dtree)"
   ]
  },
  {
   "cell_type": "code",
   "execution_count": null,
   "metadata": {
    "collapsed": true
   },
   "outputs": [],
   "source": [
    "#acuuracy of the classifier is \n",
    "print(\"The accuracy of the classifier is \", metrics.accuracy_score(y_test,y_predicted_dtree)*100)"
   ]
  },
  {
   "cell_type": "markdown",
   "metadata": {},
   "source": [
    "This accuracy is quite high for test data.\n",
    "\n",
    "Let's check out the ROC - Curve and Confusion Matrix for better evaluating the results."
   ]
  },
  {
   "cell_type": "code",
   "execution_count": null,
   "metadata": {
    "collapsed": true
   },
   "outputs": [],
   "source": [
    "#Calculating the Area Under the ROC Curve\n",
    "fpr, tpr, thresholds = metrics.roc_curve(y_test, y_prob_predicted_dtree[:,1],pos_label= \"M\")\n",
    "roc_auc = metrics.auc(fpr, tpr)\n",
    "print(\"Area under the ROC curve : %f\" % roc_auc)"
   ]
  },
  {
   "cell_type": "code",
   "execution_count": null,
   "metadata": {
    "collapsed": true
   },
   "outputs": [],
   "source": [
    "# Plotting ROC Curve\n",
    "plt.plot(fpr,tpr,label='AUC = %0.2f'% roc_auc)\n",
    "plt.xlabel('False Positive Rate')\n",
    "plt.ylabel('True Positive Rate')\n",
    "plt.legend(loc=\"lower right\")\n",
    "plt.title('Receiver operating characteristic')"
   ]
  },
  {
   "cell_type": "code",
   "execution_count": null,
   "metadata": {
    "collapsed": true
   },
   "outputs": [],
   "source": [
    "#Confusion Matrix and Classification report\n",
    "print('confusion Matrix\\n',metrics.confusion_matrix(y_test, y_predicted_dtree))\n",
    "print('\\n Classification report\\n', metrics.classification_report(y_test, y_predicted_dtree))"
   ]
  },
  {
   "cell_type": "markdown",
   "metadata": {},
   "source": [
    "#### Inferences from the Decision Tree Classification Model"
   ]
  },
  {
   "cell_type": "markdown",
   "metadata": {},
   "source": [
    "The accuracy of the decision tree classifier is 91.22 and the area under the ROC- Curve is 91.7. Though these values seem high(greater than 90 %) the decision tree classifier performs poorly when compared to the logit classifier. Since we are not pruning the decision trees it migh be possible that the decision tree classifier overfits on the train(100% accurate partitioning between classes). There is a lot of scope for imporvement!"
   ]
  },
  {
   "cell_type": "markdown",
   "metadata": {},
   "source": [
    "#### Advantages of Decision Trees \n",
    "\n",
    "1.) Easy to Understand and visualize\n",
    "\n",
    "2.) No feature selection needed. Can also handle both Numerical and Categorical Data\n",
    "\n",
    "3.) Can be used for Regression and Classification\n",
    "\n",
    "4.) Faster to Compute compared other ensemble learning methods like Random Forest."
   ]
  },
  {
   "cell_type": "markdown",
   "metadata": {},
   "source": [
    "#### Disadvantages of Decision Trees\n",
    "\n",
    "1.) They don't generalise the data well and can create complex structures that might overfit on train data\n",
    "\n",
    "2.) They might not provide robust solutions as the splitting criteria is based on greedy algorithm which might not lead to global optimum and hence ensemble methods are preferred.\n",
    "\n",
    "3.) Small variation in the data can greatly affect the results of this classifier"
   ]
  },
  {
   "cell_type": "markdown",
   "metadata": {},
   "source": [
    "####  What more could have been done\n",
    "\n",
    "1.) Try pruning the decision tree to prevent overfitting on train \n",
    "\n",
    "2.) A single tree may sometimes provide unreliable solutions. Hence, other classifiers like random forest should be tried to proivde more robuts solutions.\n",
    "\n",
    "3.) Cross validate the pruning coefficient using a Grid Search or techniques like K- Fold cross validation\n",
    "\n",
    "4.) Add a validation set"
   ]
  },
  {
   "cell_type": "markdown",
   "metadata": {},
   "source": [
    "[Go to the Top of the Page : ](#top)"
   ]
  }
 ],
 "metadata": {
  "kernelspec": {
   "display_name": "Python 3",
   "language": "python",
   "name": "python3"
  },
  "language_info": {
   "codemirror_mode": {
    "name": "ipython",
    "version": 3
   },
   "file_extension": ".py",
   "mimetype": "text/x-python",
   "name": "python",
   "nbconvert_exporter": "python",
   "pygments_lexer": "ipython3",
   "version": "3.5.3"
  }
 },
 "nbformat": 4,
 "nbformat_minor": 2
}
